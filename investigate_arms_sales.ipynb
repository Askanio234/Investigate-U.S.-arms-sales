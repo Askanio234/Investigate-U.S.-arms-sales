{
 "cells": [
  {
   "cell_type": "markdown",
   "metadata": {},
   "source": [
    "# Project: Investigate arms sales in the U.S.\n",
    "\n",
    "## Table of Contents\n",
    "<ul>\n",
    "<li><a href=\"#intro\">Introduction</a></li>\n",
    "<li><a href=\"#wrangling\">Data Wrangling</a></li>\n",
    "<li><a href=\"#eda\">Exploratory Data Analysis</a></li>\n",
    "<li><a href=\"#conclusions\">Conclusions</a></li>\n",
    "</ul>"
   ]
  },
  {
   "cell_type": "markdown",
   "metadata": {},
   "source": [
    "<a id='intro'></a>\n",
    "## Introduction"
   ]
  },
  {
   "cell_type": "markdown",
   "metadata": {},
   "source": [
    "For this project I've taken data on background checks. The data comes from the FBI's National Instant Criminal Background Check System. The NICS is used by to determine whether a prospective buyer is eligible to buy firearms or explosives. Gun shops call into this system to ensure that each customer does not have a criminal record or isn’t otherwise ineligible to make a purchase. The data has been supplemented with state level data from www.census.gov. Census data provides some social-economical indicators for each state."
   ]
  },
  {
   "cell_type": "markdown",
   "metadata": {},
   "source": [
    "This project will cover the following questions:\n",
    "<ul>\n",
    "    <li> What is general trend for arms sales in the U.S.?</li>\n",
    "    <li> Which states has the highest number of arms sold?</li>\n",
    "    <li> What social-economic factors may contribute to high per-capita arms sales?</li>\n",
    "</ul>"
   ]
  },
  {
   "cell_type": "code",
   "execution_count": 1,
   "metadata": {},
   "outputs": [],
   "source": [
    "import pandas as pd\n",
    "import matplotlib.pyplot as plt\n",
    "\n",
    "%matplotlib inline"
   ]
  },
  {
   "cell_type": "markdown",
   "metadata": {},
   "source": [
    "<a id='wrangling'></a>\n",
    "## Data Wrangling\n",
    "\n",
    "### General Properties"
   ]
  },
  {
   "cell_type": "code",
   "execution_count": 2,
   "metadata": {},
   "outputs": [],
   "source": [
    "# load the FBI data\n",
    "df_fbi = pd.read_excel('gun_data.xlsx')\n",
    "# load the U.S. census data\n",
    "df_census = pd.read_csv('U.S. Census Data.csv')"
   ]
  },
  {
   "cell_type": "code",
   "execution_count": 3,
   "metadata": {},
   "outputs": [
    {
     "data": {
      "text/html": [
       "<div>\n",
       "<style scoped>\n",
       "    .dataframe tbody tr th:only-of-type {\n",
       "        vertical-align: middle;\n",
       "    }\n",
       "\n",
       "    .dataframe tbody tr th {\n",
       "        vertical-align: top;\n",
       "    }\n",
       "\n",
       "    .dataframe thead th {\n",
       "        text-align: right;\n",
       "    }\n",
       "</style>\n",
       "<table border=\"1\" class=\"dataframe\">\n",
       "  <thead>\n",
       "    <tr style=\"text-align: right;\">\n",
       "      <th></th>\n",
       "      <th>month</th>\n",
       "      <th>state</th>\n",
       "      <th>permit</th>\n",
       "      <th>permit_recheck</th>\n",
       "      <th>handgun</th>\n",
       "      <th>long_gun</th>\n",
       "      <th>other</th>\n",
       "      <th>multiple</th>\n",
       "      <th>admin</th>\n",
       "      <th>prepawn_handgun</th>\n",
       "      <th>...</th>\n",
       "      <th>returned_other</th>\n",
       "      <th>rentals_handgun</th>\n",
       "      <th>rentals_long_gun</th>\n",
       "      <th>private_sale_handgun</th>\n",
       "      <th>private_sale_long_gun</th>\n",
       "      <th>private_sale_other</th>\n",
       "      <th>return_to_seller_handgun</th>\n",
       "      <th>return_to_seller_long_gun</th>\n",
       "      <th>return_to_seller_other</th>\n",
       "      <th>totals</th>\n",
       "    </tr>\n",
       "  </thead>\n",
       "  <tbody>\n",
       "    <tr>\n",
       "      <th>0</th>\n",
       "      <td>2017-09</td>\n",
       "      <td>Alabama</td>\n",
       "      <td>16717.0</td>\n",
       "      <td>0.0</td>\n",
       "      <td>5734.0</td>\n",
       "      <td>6320.0</td>\n",
       "      <td>221.0</td>\n",
       "      <td>317</td>\n",
       "      <td>0.0</td>\n",
       "      <td>15.0</td>\n",
       "      <td>...</td>\n",
       "      <td>0.0</td>\n",
       "      <td>0.0</td>\n",
       "      <td>0.0</td>\n",
       "      <td>9.0</td>\n",
       "      <td>16.0</td>\n",
       "      <td>3.0</td>\n",
       "      <td>0.0</td>\n",
       "      <td>0.0</td>\n",
       "      <td>3.0</td>\n",
       "      <td>32019</td>\n",
       "    </tr>\n",
       "    <tr>\n",
       "      <th>1</th>\n",
       "      <td>2017-09</td>\n",
       "      <td>Alaska</td>\n",
       "      <td>209.0</td>\n",
       "      <td>2.0</td>\n",
       "      <td>2320.0</td>\n",
       "      <td>2930.0</td>\n",
       "      <td>219.0</td>\n",
       "      <td>160</td>\n",
       "      <td>0.0</td>\n",
       "      <td>5.0</td>\n",
       "      <td>...</td>\n",
       "      <td>0.0</td>\n",
       "      <td>0.0</td>\n",
       "      <td>0.0</td>\n",
       "      <td>17.0</td>\n",
       "      <td>24.0</td>\n",
       "      <td>1.0</td>\n",
       "      <td>0.0</td>\n",
       "      <td>0.0</td>\n",
       "      <td>0.0</td>\n",
       "      <td>6303</td>\n",
       "    </tr>\n",
       "    <tr>\n",
       "      <th>2</th>\n",
       "      <td>2017-09</td>\n",
       "      <td>Arizona</td>\n",
       "      <td>5069.0</td>\n",
       "      <td>382.0</td>\n",
       "      <td>11063.0</td>\n",
       "      <td>7946.0</td>\n",
       "      <td>920.0</td>\n",
       "      <td>631</td>\n",
       "      <td>0.0</td>\n",
       "      <td>13.0</td>\n",
       "      <td>...</td>\n",
       "      <td>0.0</td>\n",
       "      <td>0.0</td>\n",
       "      <td>0.0</td>\n",
       "      <td>38.0</td>\n",
       "      <td>12.0</td>\n",
       "      <td>2.0</td>\n",
       "      <td>0.0</td>\n",
       "      <td>0.0</td>\n",
       "      <td>0.0</td>\n",
       "      <td>28394</td>\n",
       "    </tr>\n",
       "    <tr>\n",
       "      <th>3</th>\n",
       "      <td>2017-09</td>\n",
       "      <td>Arkansas</td>\n",
       "      <td>2935.0</td>\n",
       "      <td>632.0</td>\n",
       "      <td>4347.0</td>\n",
       "      <td>6063.0</td>\n",
       "      <td>165.0</td>\n",
       "      <td>366</td>\n",
       "      <td>51.0</td>\n",
       "      <td>12.0</td>\n",
       "      <td>...</td>\n",
       "      <td>0.0</td>\n",
       "      <td>0.0</td>\n",
       "      <td>0.0</td>\n",
       "      <td>13.0</td>\n",
       "      <td>23.0</td>\n",
       "      <td>0.0</td>\n",
       "      <td>0.0</td>\n",
       "      <td>2.0</td>\n",
       "      <td>1.0</td>\n",
       "      <td>17747</td>\n",
       "    </tr>\n",
       "    <tr>\n",
       "      <th>4</th>\n",
       "      <td>2017-09</td>\n",
       "      <td>California</td>\n",
       "      <td>57839.0</td>\n",
       "      <td>0.0</td>\n",
       "      <td>37165.0</td>\n",
       "      <td>24581.0</td>\n",
       "      <td>2984.0</td>\n",
       "      <td>0</td>\n",
       "      <td>0.0</td>\n",
       "      <td>0.0</td>\n",
       "      <td>...</td>\n",
       "      <td>0.0</td>\n",
       "      <td>0.0</td>\n",
       "      <td>0.0</td>\n",
       "      <td>0.0</td>\n",
       "      <td>0.0</td>\n",
       "      <td>0.0</td>\n",
       "      <td>0.0</td>\n",
       "      <td>0.0</td>\n",
       "      <td>0.0</td>\n",
       "      <td>123506</td>\n",
       "    </tr>\n",
       "  </tbody>\n",
       "</table>\n",
       "<p>5 rows × 27 columns</p>\n",
       "</div>"
      ],
      "text/plain": [
       "     month       state   permit  permit_recheck  handgun  long_gun   other  \\\n",
       "0  2017-09     Alabama  16717.0             0.0   5734.0    6320.0   221.0   \n",
       "1  2017-09      Alaska    209.0             2.0   2320.0    2930.0   219.0   \n",
       "2  2017-09     Arizona   5069.0           382.0  11063.0    7946.0   920.0   \n",
       "3  2017-09    Arkansas   2935.0           632.0   4347.0    6063.0   165.0   \n",
       "4  2017-09  California  57839.0             0.0  37165.0   24581.0  2984.0   \n",
       "\n",
       "   multiple  admin  prepawn_handgun   ...    returned_other  rentals_handgun  \\\n",
       "0       317    0.0             15.0   ...               0.0              0.0   \n",
       "1       160    0.0              5.0   ...               0.0              0.0   \n",
       "2       631    0.0             13.0   ...               0.0              0.0   \n",
       "3       366   51.0             12.0   ...               0.0              0.0   \n",
       "4         0    0.0              0.0   ...               0.0              0.0   \n",
       "\n",
       "   rentals_long_gun  private_sale_handgun  private_sale_long_gun  \\\n",
       "0               0.0                   9.0                   16.0   \n",
       "1               0.0                  17.0                   24.0   \n",
       "2               0.0                  38.0                   12.0   \n",
       "3               0.0                  13.0                   23.0   \n",
       "4               0.0                   0.0                    0.0   \n",
       "\n",
       "   private_sale_other  return_to_seller_handgun  return_to_seller_long_gun  \\\n",
       "0                 3.0                       0.0                        0.0   \n",
       "1                 1.0                       0.0                        0.0   \n",
       "2                 2.0                       0.0                        0.0   \n",
       "3                 0.0                       0.0                        2.0   \n",
       "4                 0.0                       0.0                        0.0   \n",
       "\n",
       "   return_to_seller_other  totals  \n",
       "0                     3.0   32019  \n",
       "1                     0.0    6303  \n",
       "2                     0.0   28394  \n",
       "3                     1.0   17747  \n",
       "4                     0.0  123506  \n",
       "\n",
       "[5 rows x 27 columns]"
      ]
     },
     "execution_count": 3,
     "metadata": {},
     "output_type": "execute_result"
    }
   ],
   "source": [
    "df_fbi.head()"
   ]
  },
  {
   "cell_type": "code",
   "execution_count": 4,
   "metadata": {},
   "outputs": [
    {
     "data": {
      "text/html": [
       "<div>\n",
       "<style scoped>\n",
       "    .dataframe tbody tr th:only-of-type {\n",
       "        vertical-align: middle;\n",
       "    }\n",
       "\n",
       "    .dataframe tbody tr th {\n",
       "        vertical-align: top;\n",
       "    }\n",
       "\n",
       "    .dataframe thead th {\n",
       "        text-align: right;\n",
       "    }\n",
       "</style>\n",
       "<table border=\"1\" class=\"dataframe\">\n",
       "  <thead>\n",
       "    <tr style=\"text-align: right;\">\n",
       "      <th></th>\n",
       "      <th>month</th>\n",
       "      <th>state</th>\n",
       "      <th>permit</th>\n",
       "      <th>permit_recheck</th>\n",
       "      <th>handgun</th>\n",
       "      <th>long_gun</th>\n",
       "      <th>other</th>\n",
       "      <th>multiple</th>\n",
       "      <th>admin</th>\n",
       "      <th>prepawn_handgun</th>\n",
       "      <th>...</th>\n",
       "      <th>returned_other</th>\n",
       "      <th>rentals_handgun</th>\n",
       "      <th>rentals_long_gun</th>\n",
       "      <th>private_sale_handgun</th>\n",
       "      <th>private_sale_long_gun</th>\n",
       "      <th>private_sale_other</th>\n",
       "      <th>return_to_seller_handgun</th>\n",
       "      <th>return_to_seller_long_gun</th>\n",
       "      <th>return_to_seller_other</th>\n",
       "      <th>totals</th>\n",
       "    </tr>\n",
       "  </thead>\n",
       "  <tbody>\n",
       "    <tr>\n",
       "      <th>12484</th>\n",
       "      <td>1998-11</td>\n",
       "      <td>Wyoming</td>\n",
       "      <td>8.0</td>\n",
       "      <td>NaN</td>\n",
       "      <td>45.0</td>\n",
       "      <td>49.0</td>\n",
       "      <td>NaN</td>\n",
       "      <td>5</td>\n",
       "      <td>0.0</td>\n",
       "      <td>NaN</td>\n",
       "      <td>...</td>\n",
       "      <td>NaN</td>\n",
       "      <td>NaN</td>\n",
       "      <td>NaN</td>\n",
       "      <td>NaN</td>\n",
       "      <td>NaN</td>\n",
       "      <td>NaN</td>\n",
       "      <td>NaN</td>\n",
       "      <td>NaN</td>\n",
       "      <td>NaN</td>\n",
       "      <td>107</td>\n",
       "    </tr>\n",
       "  </tbody>\n",
       "</table>\n",
       "<p>1 rows × 27 columns</p>\n",
       "</div>"
      ],
      "text/plain": [
       "         month    state  permit  permit_recheck  handgun  long_gun  other  \\\n",
       "12484  1998-11  Wyoming     8.0             NaN     45.0      49.0    NaN   \n",
       "\n",
       "       multiple  admin  prepawn_handgun   ...    returned_other  \\\n",
       "12484         5    0.0              NaN   ...               NaN   \n",
       "\n",
       "       rentals_handgun  rentals_long_gun  private_sale_handgun  \\\n",
       "12484              NaN               NaN                   NaN   \n",
       "\n",
       "       private_sale_long_gun  private_sale_other  return_to_seller_handgun  \\\n",
       "12484                    NaN                 NaN                       NaN   \n",
       "\n",
       "       return_to_seller_long_gun  return_to_seller_other  totals  \n",
       "12484                        NaN                     NaN     107  \n",
       "\n",
       "[1 rows x 27 columns]"
      ]
     },
     "execution_count": 4,
     "metadata": {},
     "output_type": "execute_result"
    }
   ],
   "source": [
    "df_fbi.tail(1)"
   ]
  },
  {
   "cell_type": "code",
   "execution_count": 5,
   "metadata": {},
   "outputs": [
    {
     "data": {
      "text/plain": [
       "(12485, 27)"
      ]
     },
     "execution_count": 5,
     "metadata": {},
     "output_type": "execute_result"
    }
   ],
   "source": [
    "df_fbi.shape"
   ]
  },
  {
   "cell_type": "code",
   "execution_count": 6,
   "metadata": {},
   "outputs": [
    {
     "data": {
      "text/plain": [
       "Index(['month', 'state', 'permit', 'permit_recheck', 'handgun', 'long_gun',\n",
       "       'other', 'multiple', 'admin', 'prepawn_handgun', 'prepawn_long_gun',\n",
       "       'prepawn_other', 'redemption_handgun', 'redemption_long_gun',\n",
       "       'redemption_other', 'returned_handgun', 'returned_long_gun',\n",
       "       'returned_other', 'rentals_handgun', 'rentals_long_gun',\n",
       "       'private_sale_handgun', 'private_sale_long_gun', 'private_sale_other',\n",
       "       'return_to_seller_handgun', 'return_to_seller_long_gun',\n",
       "       'return_to_seller_other', 'totals'],\n",
       "      dtype='object')"
      ]
     },
     "execution_count": 6,
     "metadata": {},
     "output_type": "execute_result"
    }
   ],
   "source": [
    "df_fbi.columns"
   ]
  },
  {
   "cell_type": "code",
   "execution_count": 7,
   "metadata": {},
   "outputs": [
    {
     "name": "stdout",
     "output_type": "stream",
     "text": [
      "<class 'pandas.core.frame.DataFrame'>\n",
      "RangeIndex: 12485 entries, 0 to 12484\n",
      "Data columns (total 27 columns):\n",
      "month                        12485 non-null object\n",
      "state                        12485 non-null object\n",
      "permit                       12461 non-null float64\n",
      "permit_recheck               1100 non-null float64\n",
      "handgun                      12465 non-null float64\n",
      "long_gun                     12466 non-null float64\n",
      "other                        5500 non-null float64\n",
      "multiple                     12485 non-null int64\n",
      "admin                        12462 non-null float64\n",
      "prepawn_handgun              10542 non-null float64\n",
      "prepawn_long_gun             10540 non-null float64\n",
      "prepawn_other                5115 non-null float64\n",
      "redemption_handgun           10545 non-null float64\n",
      "redemption_long_gun          10544 non-null float64\n",
      "redemption_other             5115 non-null float64\n",
      "returned_handgun             2200 non-null float64\n",
      "returned_long_gun            2145 non-null float64\n",
      "returned_other               1815 non-null float64\n",
      "rentals_handgun              990 non-null float64\n",
      "rentals_long_gun             825 non-null float64\n",
      "private_sale_handgun         2750 non-null float64\n",
      "private_sale_long_gun        2750 non-null float64\n",
      "private_sale_other           2750 non-null float64\n",
      "return_to_seller_handgun     2475 non-null float64\n",
      "return_to_seller_long_gun    2750 non-null float64\n",
      "return_to_seller_other       2255 non-null float64\n",
      "totals                       12485 non-null int64\n",
      "dtypes: float64(23), int64(2), object(2)\n",
      "memory usage: 2.6+ MB\n"
     ]
    }
   ],
   "source": [
    "df_fbi.info()"
   ]
  },
  {
   "cell_type": "markdown",
   "metadata": {},
   "source": [
    "As we can see the FBI dataset contains per month data for various types of background checks from November 1998 to December 2017. There is some missing data in particular in columns for private sales and rentals."
   ]
  },
  {
   "cell_type": "markdown",
   "metadata": {},
   "source": [
    "Now let's see what we've got in census data:"
   ]
  },
  {
   "cell_type": "code",
   "execution_count": 8,
   "metadata": {},
   "outputs": [
    {
     "data": {
      "text/html": [
       "<div>\n",
       "<style scoped>\n",
       "    .dataframe tbody tr th:only-of-type {\n",
       "        vertical-align: middle;\n",
       "    }\n",
       "\n",
       "    .dataframe tbody tr th {\n",
       "        vertical-align: top;\n",
       "    }\n",
       "\n",
       "    .dataframe thead th {\n",
       "        text-align: right;\n",
       "    }\n",
       "</style>\n",
       "<table border=\"1\" class=\"dataframe\">\n",
       "  <thead>\n",
       "    <tr style=\"text-align: right;\">\n",
       "      <th></th>\n",
       "      <th>Fact</th>\n",
       "      <th>Fact Note</th>\n",
       "      <th>Alabama</th>\n",
       "      <th>Alaska</th>\n",
       "      <th>Arizona</th>\n",
       "      <th>Arkansas</th>\n",
       "      <th>California</th>\n",
       "      <th>Colorado</th>\n",
       "      <th>Connecticut</th>\n",
       "      <th>Delaware</th>\n",
       "      <th>...</th>\n",
       "      <th>South Dakota</th>\n",
       "      <th>Tennessee</th>\n",
       "      <th>Texas</th>\n",
       "      <th>Utah</th>\n",
       "      <th>Vermont</th>\n",
       "      <th>Virginia</th>\n",
       "      <th>Washington</th>\n",
       "      <th>West Virginia</th>\n",
       "      <th>Wisconsin</th>\n",
       "      <th>Wyoming</th>\n",
       "    </tr>\n",
       "  </thead>\n",
       "  <tbody>\n",
       "    <tr>\n",
       "      <th>0</th>\n",
       "      <td>Population estimates, July 1, 2016,  (V2016)</td>\n",
       "      <td>NaN</td>\n",
       "      <td>4,863,300</td>\n",
       "      <td>741,894</td>\n",
       "      <td>6,931,071</td>\n",
       "      <td>2,988,248</td>\n",
       "      <td>39,250,017</td>\n",
       "      <td>5,540,545</td>\n",
       "      <td>3,576,452</td>\n",
       "      <td>952,065</td>\n",
       "      <td>...</td>\n",
       "      <td>865454</td>\n",
       "      <td>6651194</td>\n",
       "      <td>27,862,596</td>\n",
       "      <td>3,051,217</td>\n",
       "      <td>624,594</td>\n",
       "      <td>8,411,808</td>\n",
       "      <td>7,288,000</td>\n",
       "      <td>1,831,102</td>\n",
       "      <td>5,778,708</td>\n",
       "      <td>585,501</td>\n",
       "    </tr>\n",
       "    <tr>\n",
       "      <th>1</th>\n",
       "      <td>Population estimates base, April 1, 2010,  (V2...</td>\n",
       "      <td>NaN</td>\n",
       "      <td>4,780,131</td>\n",
       "      <td>710,249</td>\n",
       "      <td>6,392,301</td>\n",
       "      <td>2,916,025</td>\n",
       "      <td>37,254,522</td>\n",
       "      <td>5,029,324</td>\n",
       "      <td>3,574,114</td>\n",
       "      <td>897,936</td>\n",
       "      <td>...</td>\n",
       "      <td>814195</td>\n",
       "      <td>6346298</td>\n",
       "      <td>25,146,100</td>\n",
       "      <td>2,763,888</td>\n",
       "      <td>625,741</td>\n",
       "      <td>8,001,041</td>\n",
       "      <td>6,724,545</td>\n",
       "      <td>1,853,011</td>\n",
       "      <td>5,687,289</td>\n",
       "      <td>563,767</td>\n",
       "    </tr>\n",
       "    <tr>\n",
       "      <th>2</th>\n",
       "      <td>Population, percent change - April 1, 2010 (es...</td>\n",
       "      <td>NaN</td>\n",
       "      <td>1.70%</td>\n",
       "      <td>4.50%</td>\n",
       "      <td>8.40%</td>\n",
       "      <td>2.50%</td>\n",
       "      <td>5.40%</td>\n",
       "      <td>10.20%</td>\n",
       "      <td>0.10%</td>\n",
       "      <td>6.00%</td>\n",
       "      <td>...</td>\n",
       "      <td>0.063</td>\n",
       "      <td>0.048</td>\n",
       "      <td>10.80%</td>\n",
       "      <td>10.40%</td>\n",
       "      <td>-0.20%</td>\n",
       "      <td>5.10%</td>\n",
       "      <td>8.40%</td>\n",
       "      <td>-1.20%</td>\n",
       "      <td>1.60%</td>\n",
       "      <td>3.90%</td>\n",
       "    </tr>\n",
       "    <tr>\n",
       "      <th>3</th>\n",
       "      <td>Population, Census, April 1, 2010</td>\n",
       "      <td>NaN</td>\n",
       "      <td>4,779,736</td>\n",
       "      <td>710,231</td>\n",
       "      <td>6,392,017</td>\n",
       "      <td>2,915,918</td>\n",
       "      <td>37,253,956</td>\n",
       "      <td>5,029,196</td>\n",
       "      <td>3,574,097</td>\n",
       "      <td>897,934</td>\n",
       "      <td>...</td>\n",
       "      <td>814180</td>\n",
       "      <td>6346105</td>\n",
       "      <td>25,145,561</td>\n",
       "      <td>2,763,885</td>\n",
       "      <td>625,741</td>\n",
       "      <td>8,001,024</td>\n",
       "      <td>6,724,540</td>\n",
       "      <td>1,852,994</td>\n",
       "      <td>5,686,986</td>\n",
       "      <td>563,626</td>\n",
       "    </tr>\n",
       "    <tr>\n",
       "      <th>4</th>\n",
       "      <td>Persons under 5 years, percent, July 1, 2016, ...</td>\n",
       "      <td>NaN</td>\n",
       "      <td>6.00%</td>\n",
       "      <td>7.30%</td>\n",
       "      <td>6.30%</td>\n",
       "      <td>6.40%</td>\n",
       "      <td>6.30%</td>\n",
       "      <td>6.10%</td>\n",
       "      <td>5.20%</td>\n",
       "      <td>5.80%</td>\n",
       "      <td>...</td>\n",
       "      <td>0.071</td>\n",
       "      <td>0.061</td>\n",
       "      <td>7.20%</td>\n",
       "      <td>8.30%</td>\n",
       "      <td>4.90%</td>\n",
       "      <td>6.10%</td>\n",
       "      <td>6.20%</td>\n",
       "      <td>5.50%</td>\n",
       "      <td>5.80%</td>\n",
       "      <td>6.50%</td>\n",
       "    </tr>\n",
       "  </tbody>\n",
       "</table>\n",
       "<p>5 rows × 52 columns</p>\n",
       "</div>"
      ],
      "text/plain": [
       "                                                Fact Fact Note    Alabama  \\\n",
       "0       Population estimates, July 1, 2016,  (V2016)       NaN  4,863,300   \n",
       "1  Population estimates base, April 1, 2010,  (V2...       NaN  4,780,131   \n",
       "2  Population, percent change - April 1, 2010 (es...       NaN      1.70%   \n",
       "3                  Population, Census, April 1, 2010       NaN  4,779,736   \n",
       "4  Persons under 5 years, percent, July 1, 2016, ...       NaN      6.00%   \n",
       "\n",
       "    Alaska    Arizona   Arkansas  California   Colorado Connecticut Delaware  \\\n",
       "0  741,894  6,931,071  2,988,248  39,250,017  5,540,545   3,576,452  952,065   \n",
       "1  710,249  6,392,301  2,916,025  37,254,522  5,029,324   3,574,114  897,936   \n",
       "2    4.50%      8.40%      2.50%       5.40%     10.20%       0.10%    6.00%   \n",
       "3  710,231  6,392,017  2,915,918  37,253,956  5,029,196   3,574,097  897,934   \n",
       "4    7.30%      6.30%      6.40%       6.30%      6.10%       5.20%    5.80%   \n",
       "\n",
       "    ...    South Dakota Tennessee       Texas       Utah  Vermont   Virginia  \\\n",
       "0   ...          865454   6651194  27,862,596  3,051,217  624,594  8,411,808   \n",
       "1   ...          814195   6346298  25,146,100  2,763,888  625,741  8,001,041   \n",
       "2   ...           0.063     0.048      10.80%     10.40%   -0.20%      5.10%   \n",
       "3   ...          814180   6346105  25,145,561  2,763,885  625,741  8,001,024   \n",
       "4   ...           0.071     0.061       7.20%      8.30%    4.90%      6.10%   \n",
       "\n",
       "  Washington West Virginia  Wisconsin  Wyoming  \n",
       "0  7,288,000     1,831,102  5,778,708  585,501  \n",
       "1  6,724,545     1,853,011  5,687,289  563,767  \n",
       "2      8.40%        -1.20%      1.60%    3.90%  \n",
       "3  6,724,540     1,852,994  5,686,986  563,626  \n",
       "4      6.20%         5.50%      5.80%    6.50%  \n",
       "\n",
       "[5 rows x 52 columns]"
      ]
     },
     "execution_count": 8,
     "metadata": {},
     "output_type": "execute_result"
    }
   ],
   "source": [
    "df_census.head()"
   ]
  },
  {
   "cell_type": "code",
   "execution_count": 9,
   "metadata": {},
   "outputs": [
    {
     "data": {
      "text/plain": [
       "(85, 52)"
      ]
     },
     "execution_count": 9,
     "metadata": {},
     "output_type": "execute_result"
    }
   ],
   "source": [
    "df_census.shape"
   ]
  },
  {
   "cell_type": "code",
   "execution_count": 10,
   "metadata": {},
   "outputs": [
    {
     "name": "stdout",
     "output_type": "stream",
     "text": [
      "<class 'pandas.core.frame.DataFrame'>\n",
      "RangeIndex: 85 entries, 0 to 84\n",
      "Data columns (total 52 columns):\n",
      "Fact              80 non-null object\n",
      "Fact Note         28 non-null object\n",
      "Alabama           65 non-null object\n",
      "Alaska            65 non-null object\n",
      "Arizona           65 non-null object\n",
      "Arkansas          65 non-null object\n",
      "California        65 non-null object\n",
      "Colorado          65 non-null object\n",
      "Connecticut       65 non-null object\n",
      "Delaware          65 non-null object\n",
      "Florida           65 non-null object\n",
      "Georgia           65 non-null object\n",
      "Hawaii            65 non-null object\n",
      "Idaho             65 non-null object\n",
      "Illinois          65 non-null object\n",
      "Indiana           65 non-null object\n",
      "Iowa              65 non-null object\n",
      "Kansas            65 non-null object\n",
      "Kentucky          65 non-null object\n",
      "Louisiana         65 non-null object\n",
      "Maine             65 non-null object\n",
      "Maryland          65 non-null object\n",
      "Massachusetts     65 non-null object\n",
      "Michigan          65 non-null object\n",
      "Minnesota         65 non-null object\n",
      "Mississippi       65 non-null object\n",
      "Missouri          65 non-null object\n",
      "Montana           65 non-null object\n",
      "Nebraska          65 non-null object\n",
      "Nevada            65 non-null object\n",
      "New Hampshire     65 non-null object\n",
      "New Jersey        65 non-null object\n",
      "New Mexico        65 non-null object\n",
      "New York          65 non-null object\n",
      "North Carolina    65 non-null object\n",
      "North Dakota      65 non-null object\n",
      "Ohio              65 non-null object\n",
      "Oklahoma          65 non-null object\n",
      "Oregon            65 non-null object\n",
      "Pennsylvania      65 non-null object\n",
      "Rhode Island      65 non-null object\n",
      "South Carolina    65 non-null object\n",
      "South Dakota      65 non-null object\n",
      "Tennessee         65 non-null object\n",
      "Texas             65 non-null object\n",
      "Utah              65 non-null object\n",
      "Vermont           65 non-null object\n",
      "Virginia          65 non-null object\n",
      "Washington        65 non-null object\n",
      "West Virginia     65 non-null object\n",
      "Wisconsin         65 non-null object\n",
      "Wyoming           65 non-null object\n",
      "dtypes: object(52)\n",
      "memory usage: 34.6+ KB\n"
     ]
    }
   ],
   "source": [
    "df_census.info()"
   ]
  },
  {
   "cell_type": "code",
   "execution_count": 11,
   "metadata": {},
   "outputs": [],
   "source": [
    "# we need to set this options to view all the facts.\n",
    "pd.options.display.max_rows = 100\n",
    "pd.set_option('max_colwidth', 200)"
   ]
  },
  {
   "cell_type": "code",
   "execution_count": 12,
   "metadata": {},
   "outputs": [
    {
     "data": {
      "text/plain": [
       "0                                               Population estimates, July 1, 2016,  (V2016)\n",
       "1                                         Population estimates base, April 1, 2010,  (V2016)\n",
       "2      Population, percent change - April 1, 2010 (estimates base) to July 1, 2016,  (V2016)\n",
       "3                                                          Population, Census, April 1, 2010\n",
       "4                                     Persons under 5 years, percent, July 1, 2016,  (V2016)\n",
       "5                                              Persons under 5 years, percent, April 1, 2010\n",
       "6                                    Persons under 18 years, percent, July 1, 2016,  (V2016)\n",
       "7                                             Persons under 18 years, percent, April 1, 2010\n",
       "8                                Persons 65 years and over, percent,  July 1, 2016,  (V2016)\n",
       "9                                          Persons 65 years and over, percent, April 1, 2010\n",
       "10                                          Female persons, percent,  July 1, 2016,  (V2016)\n",
       "11                                                    Female persons, percent, April 1, 2010\n",
       "12                                              White alone, percent, July 1, 2016,  (V2016)\n",
       "13                          Black or African American alone, percent, July 1, 2016,  (V2016)\n",
       "14                  American Indian and Alaska Native alone, percent, July 1, 2016,  (V2016)\n",
       "15                                              Asian alone, percent, July 1, 2016,  (V2016)\n",
       "16         Native Hawaiian and Other Pacific Islander alone, percent, July 1, 2016,  (V2016)\n",
       "17                                        Two or More Races, percent, July 1, 2016,  (V2016)\n",
       "18                                       Hispanic or Latino, percent, July 1, 2016,  (V2016)\n",
       "19                      White alone, not Hispanic or Latino, percent, July 1, 2016,  (V2016)\n",
       "20                                                                       Veterans, 2011-2015\n",
       "21                                                  Foreign born persons, percent, 2011-2015\n",
       "22                                                    Housing units,  July 1, 2016,  (V2016)\n",
       "23                                                              Housing units, April 1, 2010\n",
       "24                                               Owner-occupied housing unit rate, 2011-2015\n",
       "25                                   Median value of owner-occupied housing units, 2011-2015\n",
       "26                           Median selected monthly owner costs -with a mortgage, 2011-2015\n",
       "27                        Median selected monthly owner costs -without a mortgage, 2011-2015\n",
       "28                                                              Median gross rent, 2011-2015\n",
       "29                                                                    Building permits, 2016\n",
       "30                                                                     Households, 2011-2015\n",
       "31                                                          Persons per household, 2011-2015\n",
       "32                Living in same house 1 year ago, percent of persons age 1 year+, 2011-2015\n",
       "33    Language other than English spoken at home, percent of persons age 5 years+, 2011-2015\n",
       "34               High school graduate or higher, percent of persons age 25 years+, 2011-2015\n",
       "35                  Bachelor's degree or higher, percent of persons age 25 years+, 2011-2015\n",
       "36                                 With a disability, under age 65 years, percent, 2011-2015\n",
       "37                            Persons  without health insurance, under age 65 years, percent\n",
       "38            In civilian labor force, total, percent of population age 16 years+, 2011-2015\n",
       "39           In civilian labor force, female, percent of population age 16 years+, 2011-2015\n",
       "40                                Total accommodation and food services sales, 2012 ($1,000)\n",
       "41                   Total health care and social assistance receipts/revenue, 2012 ($1,000)\n",
       "42                                              Total manufacturers shipments, 2012 ($1,000)\n",
       "43                                            Total merchant wholesaler sales, 2012 ($1,000)\n",
       "44                                                         Total retail sales, 2012 ($1,000)\n",
       "45                                                       Total retail sales per capita, 2012\n",
       "46                      Mean travel time to work (minutes), workers age 16 years+, 2011-2015\n",
       "47                                      Median household income (in 2015 dollars), 2011-2015\n",
       "48                          Per capita income in past 12 months (in 2015 dollars), 2011-2015\n",
       "49                                                               Persons in poverty, percent\n",
       "50                                                       Total employer establishments, 2015\n",
       "51                                                                    Total employment, 2015\n",
       "52                                                       Total annual payroll, 2015 ($1,000)\n",
       "53                                               Total employment, percent change, 2014-2015\n",
       "54                                                    Total nonemployer establishments, 2015\n",
       "55                                                                           All firms, 2012\n",
       "56                                                                     Men-owned firms, 2012\n",
       "57                                                                   Women-owned firms, 2012\n",
       "58                                                                Minority-owned firms, 2012\n",
       "59                                                             Nonminority-owned firms, 2012\n",
       "60                                                                 Veteran-owned firms, 2012\n",
       "61                                                              Nonveteran-owned firms, 2012\n",
       "62                                                          Population per square mile, 2010\n",
       "63                                                           Land area in square miles, 2010\n",
       "64                                                                                 FIPS Code\n",
       "65                                                                                       NaN\n",
       "66      NOTE: FIPS Code values are enclosed in quotes to ensure leading zeros remain intact.\n",
       "67                                                                                       NaN\n",
       "68                                                                               Value Notes\n",
       "69                                                                                         1\n",
       "70                                                                                       NaN\n",
       "71                                                                                Fact Notes\n",
       "72                                                                                       (a)\n",
       "73                                                                                       (b)\n",
       "74                                                                                       (c)\n",
       "75                                                                                       NaN\n",
       "76                                                                               Value Flags\n",
       "77                                                                                         -\n",
       "78                                                                                         D\n",
       "79                                                                                         F\n",
       "80                                                                                        FN\n",
       "81                                                                                       NaN\n",
       "82                                                                                         S\n",
       "83                                                                                         X\n",
       "84                                                                                         Z\n",
       "Name: Fact, dtype: object"
      ]
     },
     "execution_count": 12,
     "metadata": {},
     "output_type": "execute_result"
    }
   ],
   "source": [
    "df_census['Fact']"
   ]
  },
  {
   "cell_type": "markdown",
   "metadata": {},
   "source": [
    "Census data is a collection of various social and economic indicators for each state. Some factors given for census of 2010 while others for census of 2016. Column 1 is indicators themselves and columns from 3rd to 52nd are states. There is some missing data, but we will take only a few most interesting indicators for our research, we will see if we are missing some crucial data in Data Cleaning section."
   ]
  },
  {
   "cell_type": "markdown",
   "metadata": {},
   "source": [
    "### Data Cleaning"
   ]
  },
  {
   "cell_type": "markdown",
   "metadata": {},
   "source": [
    "The FBI data is not gun sales per se, but only background checks performed by governmental agencies, as described here - https://github.com/NYTimes/gunsales#getting-gun-sales-estimates-from-background-checks the best way to estimate actual gun sales: Each long gun and handgun check count as 1.1 sales. Each multiple-gun check count as two sales. Permit checks and other types of checks is to be omitted. The multiplier is an estimate based on interviews with gun shop owners."
   ]
  },
  {
   "cell_type": "markdown",
   "metadata": {},
   "source": [
    "Before we do a calculation for estimated gun sales we need to handle our missing data in columns 'handgun', 'long_gun'. Let's see which rows have missing data:"
   ]
  },
  {
   "cell_type": "code",
   "execution_count": 13,
   "metadata": {},
   "outputs": [
    {
     "data": {
      "text/html": [
       "<div>\n",
       "<style scoped>\n",
       "    .dataframe tbody tr th:only-of-type {\n",
       "        vertical-align: middle;\n",
       "    }\n",
       "\n",
       "    .dataframe tbody tr th {\n",
       "        vertical-align: top;\n",
       "    }\n",
       "\n",
       "    .dataframe thead th {\n",
       "        text-align: right;\n",
       "    }\n",
       "</style>\n",
       "<table border=\"1\" class=\"dataframe\">\n",
       "  <thead>\n",
       "    <tr style=\"text-align: right;\">\n",
       "      <th></th>\n",
       "      <th>month</th>\n",
       "      <th>state</th>\n",
       "      <th>permit</th>\n",
       "      <th>permit_recheck</th>\n",
       "      <th>handgun</th>\n",
       "      <th>long_gun</th>\n",
       "      <th>other</th>\n",
       "      <th>multiple</th>\n",
       "      <th>admin</th>\n",
       "      <th>prepawn_handgun</th>\n",
       "      <th>...</th>\n",
       "      <th>returned_other</th>\n",
       "      <th>rentals_handgun</th>\n",
       "      <th>rentals_long_gun</th>\n",
       "      <th>private_sale_handgun</th>\n",
       "      <th>private_sale_long_gun</th>\n",
       "      <th>private_sale_other</th>\n",
       "      <th>return_to_seller_handgun</th>\n",
       "      <th>return_to_seller_long_gun</th>\n",
       "      <th>return_to_seller_other</th>\n",
       "      <th>totals</th>\n",
       "    </tr>\n",
       "  </thead>\n",
       "  <tbody>\n",
       "    <tr>\n",
       "      <th>7914</th>\n",
       "      <td>2005-10</td>\n",
       "      <td>Virgin Islands</td>\n",
       "      <td>NaN</td>\n",
       "      <td>NaN</td>\n",
       "      <td>NaN</td>\n",
       "      <td>NaN</td>\n",
       "      <td>NaN</td>\n",
       "      <td>0</td>\n",
       "      <td>NaN</td>\n",
       "      <td>NaN</td>\n",
       "      <td>...</td>\n",
       "      <td>NaN</td>\n",
       "      <td>NaN</td>\n",
       "      <td>NaN</td>\n",
       "      <td>NaN</td>\n",
       "      <td>NaN</td>\n",
       "      <td>NaN</td>\n",
       "      <td>NaN</td>\n",
       "      <td>NaN</td>\n",
       "      <td>NaN</td>\n",
       "      <td>0</td>\n",
       "    </tr>\n",
       "    <tr>\n",
       "      <th>7969</th>\n",
       "      <td>2005-09</td>\n",
       "      <td>Virgin Islands</td>\n",
       "      <td>NaN</td>\n",
       "      <td>NaN</td>\n",
       "      <td>NaN</td>\n",
       "      <td>NaN</td>\n",
       "      <td>NaN</td>\n",
       "      <td>0</td>\n",
       "      <td>NaN</td>\n",
       "      <td>NaN</td>\n",
       "      <td>...</td>\n",
       "      <td>NaN</td>\n",
       "      <td>NaN</td>\n",
       "      <td>NaN</td>\n",
       "      <td>NaN</td>\n",
       "      <td>NaN</td>\n",
       "      <td>NaN</td>\n",
       "      <td>NaN</td>\n",
       "      <td>NaN</td>\n",
       "      <td>NaN</td>\n",
       "      <td>0</td>\n",
       "    </tr>\n",
       "    <tr>\n",
       "      <th>8024</th>\n",
       "      <td>2005-08</td>\n",
       "      <td>Virgin Islands</td>\n",
       "      <td>NaN</td>\n",
       "      <td>NaN</td>\n",
       "      <td>NaN</td>\n",
       "      <td>NaN</td>\n",
       "      <td>NaN</td>\n",
       "      <td>0</td>\n",
       "      <td>NaN</td>\n",
       "      <td>NaN</td>\n",
       "      <td>...</td>\n",
       "      <td>NaN</td>\n",
       "      <td>NaN</td>\n",
       "      <td>NaN</td>\n",
       "      <td>NaN</td>\n",
       "      <td>NaN</td>\n",
       "      <td>NaN</td>\n",
       "      <td>NaN</td>\n",
       "      <td>NaN</td>\n",
       "      <td>NaN</td>\n",
       "      <td>0</td>\n",
       "    </tr>\n",
       "    <tr>\n",
       "      <th>8079</th>\n",
       "      <td>2005-07</td>\n",
       "      <td>Virgin Islands</td>\n",
       "      <td>NaN</td>\n",
       "      <td>NaN</td>\n",
       "      <td>NaN</td>\n",
       "      <td>NaN</td>\n",
       "      <td>NaN</td>\n",
       "      <td>0</td>\n",
       "      <td>NaN</td>\n",
       "      <td>NaN</td>\n",
       "      <td>...</td>\n",
       "      <td>NaN</td>\n",
       "      <td>NaN</td>\n",
       "      <td>NaN</td>\n",
       "      <td>NaN</td>\n",
       "      <td>NaN</td>\n",
       "      <td>NaN</td>\n",
       "      <td>NaN</td>\n",
       "      <td>NaN</td>\n",
       "      <td>NaN</td>\n",
       "      <td>0</td>\n",
       "    </tr>\n",
       "    <tr>\n",
       "      <th>8134</th>\n",
       "      <td>2005-06</td>\n",
       "      <td>Virgin Islands</td>\n",
       "      <td>NaN</td>\n",
       "      <td>NaN</td>\n",
       "      <td>NaN</td>\n",
       "      <td>NaN</td>\n",
       "      <td>NaN</td>\n",
       "      <td>0</td>\n",
       "      <td>NaN</td>\n",
       "      <td>NaN</td>\n",
       "      <td>...</td>\n",
       "      <td>NaN</td>\n",
       "      <td>NaN</td>\n",
       "      <td>NaN</td>\n",
       "      <td>NaN</td>\n",
       "      <td>NaN</td>\n",
       "      <td>NaN</td>\n",
       "      <td>NaN</td>\n",
       "      <td>NaN</td>\n",
       "      <td>NaN</td>\n",
       "      <td>0</td>\n",
       "    </tr>\n",
       "    <tr>\n",
       "      <th>8189</th>\n",
       "      <td>2005-05</td>\n",
       "      <td>Virgin Islands</td>\n",
       "      <td>NaN</td>\n",
       "      <td>NaN</td>\n",
       "      <td>NaN</td>\n",
       "      <td>NaN</td>\n",
       "      <td>NaN</td>\n",
       "      <td>0</td>\n",
       "      <td>NaN</td>\n",
       "      <td>NaN</td>\n",
       "      <td>...</td>\n",
       "      <td>NaN</td>\n",
       "      <td>NaN</td>\n",
       "      <td>NaN</td>\n",
       "      <td>NaN</td>\n",
       "      <td>NaN</td>\n",
       "      <td>NaN</td>\n",
       "      <td>NaN</td>\n",
       "      <td>NaN</td>\n",
       "      <td>NaN</td>\n",
       "      <td>0</td>\n",
       "    </tr>\n",
       "    <tr>\n",
       "      <th>8244</th>\n",
       "      <td>2005-04</td>\n",
       "      <td>Virgin Islands</td>\n",
       "      <td>NaN</td>\n",
       "      <td>NaN</td>\n",
       "      <td>NaN</td>\n",
       "      <td>1.0</td>\n",
       "      <td>NaN</td>\n",
       "      <td>0</td>\n",
       "      <td>NaN</td>\n",
       "      <td>NaN</td>\n",
       "      <td>...</td>\n",
       "      <td>NaN</td>\n",
       "      <td>NaN</td>\n",
       "      <td>NaN</td>\n",
       "      <td>NaN</td>\n",
       "      <td>NaN</td>\n",
       "      <td>NaN</td>\n",
       "      <td>NaN</td>\n",
       "      <td>NaN</td>\n",
       "      <td>NaN</td>\n",
       "      <td>1</td>\n",
       "    </tr>\n",
       "    <tr>\n",
       "      <th>8299</th>\n",
       "      <td>2005-03</td>\n",
       "      <td>Virgin Islands</td>\n",
       "      <td>NaN</td>\n",
       "      <td>NaN</td>\n",
       "      <td>NaN</td>\n",
       "      <td>NaN</td>\n",
       "      <td>NaN</td>\n",
       "      <td>0</td>\n",
       "      <td>NaN</td>\n",
       "      <td>NaN</td>\n",
       "      <td>...</td>\n",
       "      <td>NaN</td>\n",
       "      <td>NaN</td>\n",
       "      <td>NaN</td>\n",
       "      <td>NaN</td>\n",
       "      <td>NaN</td>\n",
       "      <td>NaN</td>\n",
       "      <td>NaN</td>\n",
       "      <td>NaN</td>\n",
       "      <td>NaN</td>\n",
       "      <td>0</td>\n",
       "    </tr>\n",
       "    <tr>\n",
       "      <th>8354</th>\n",
       "      <td>2005-02</td>\n",
       "      <td>Virgin Islands</td>\n",
       "      <td>NaN</td>\n",
       "      <td>NaN</td>\n",
       "      <td>NaN</td>\n",
       "      <td>NaN</td>\n",
       "      <td>NaN</td>\n",
       "      <td>0</td>\n",
       "      <td>NaN</td>\n",
       "      <td>NaN</td>\n",
       "      <td>...</td>\n",
       "      <td>NaN</td>\n",
       "      <td>NaN</td>\n",
       "      <td>NaN</td>\n",
       "      <td>NaN</td>\n",
       "      <td>NaN</td>\n",
       "      <td>NaN</td>\n",
       "      <td>NaN</td>\n",
       "      <td>NaN</td>\n",
       "      <td>NaN</td>\n",
       "      <td>0</td>\n",
       "    </tr>\n",
       "    <tr>\n",
       "      <th>8409</th>\n",
       "      <td>2005-01</td>\n",
       "      <td>Virgin Islands</td>\n",
       "      <td>NaN</td>\n",
       "      <td>NaN</td>\n",
       "      <td>NaN</td>\n",
       "      <td>NaN</td>\n",
       "      <td>NaN</td>\n",
       "      <td>0</td>\n",
       "      <td>NaN</td>\n",
       "      <td>NaN</td>\n",
       "      <td>...</td>\n",
       "      <td>NaN</td>\n",
       "      <td>NaN</td>\n",
       "      <td>NaN</td>\n",
       "      <td>NaN</td>\n",
       "      <td>NaN</td>\n",
       "      <td>NaN</td>\n",
       "      <td>NaN</td>\n",
       "      <td>NaN</td>\n",
       "      <td>NaN</td>\n",
       "      <td>0</td>\n",
       "    </tr>\n",
       "    <tr>\n",
       "      <th>8491</th>\n",
       "      <td>2004-11</td>\n",
       "      <td>Mariana Islands</td>\n",
       "      <td>NaN</td>\n",
       "      <td>NaN</td>\n",
       "      <td>NaN</td>\n",
       "      <td>NaN</td>\n",
       "      <td>NaN</td>\n",
       "      <td>0</td>\n",
       "      <td>NaN</td>\n",
       "      <td>NaN</td>\n",
       "      <td>...</td>\n",
       "      <td>NaN</td>\n",
       "      <td>NaN</td>\n",
       "      <td>NaN</td>\n",
       "      <td>NaN</td>\n",
       "      <td>NaN</td>\n",
       "      <td>NaN</td>\n",
       "      <td>NaN</td>\n",
       "      <td>NaN</td>\n",
       "      <td>NaN</td>\n",
       "      <td>0</td>\n",
       "    </tr>\n",
       "    <tr>\n",
       "      <th>9674</th>\n",
       "      <td>2003-02</td>\n",
       "      <td>Virgin Islands</td>\n",
       "      <td>NaN</td>\n",
       "      <td>NaN</td>\n",
       "      <td>NaN</td>\n",
       "      <td>NaN</td>\n",
       "      <td>NaN</td>\n",
       "      <td>0</td>\n",
       "      <td>NaN</td>\n",
       "      <td>NaN</td>\n",
       "      <td>...</td>\n",
       "      <td>NaN</td>\n",
       "      <td>NaN</td>\n",
       "      <td>NaN</td>\n",
       "      <td>NaN</td>\n",
       "      <td>NaN</td>\n",
       "      <td>NaN</td>\n",
       "      <td>NaN</td>\n",
       "      <td>NaN</td>\n",
       "      <td>NaN</td>\n",
       "      <td>0</td>\n",
       "    </tr>\n",
       "    <tr>\n",
       "      <th>12011</th>\n",
       "      <td>1999-07</td>\n",
       "      <td>Mariana Islands</td>\n",
       "      <td>NaN</td>\n",
       "      <td>NaN</td>\n",
       "      <td>NaN</td>\n",
       "      <td>NaN</td>\n",
       "      <td>NaN</td>\n",
       "      <td>0</td>\n",
       "      <td>NaN</td>\n",
       "      <td>NaN</td>\n",
       "      <td>...</td>\n",
       "      <td>NaN</td>\n",
       "      <td>NaN</td>\n",
       "      <td>NaN</td>\n",
       "      <td>NaN</td>\n",
       "      <td>NaN</td>\n",
       "      <td>NaN</td>\n",
       "      <td>NaN</td>\n",
       "      <td>NaN</td>\n",
       "      <td>NaN</td>\n",
       "      <td>0</td>\n",
       "    </tr>\n",
       "    <tr>\n",
       "      <th>12066</th>\n",
       "      <td>1999-06</td>\n",
       "      <td>Mariana Islands</td>\n",
       "      <td>NaN</td>\n",
       "      <td>NaN</td>\n",
       "      <td>NaN</td>\n",
       "      <td>NaN</td>\n",
       "      <td>NaN</td>\n",
       "      <td>0</td>\n",
       "      <td>NaN</td>\n",
       "      <td>NaN</td>\n",
       "      <td>...</td>\n",
       "      <td>NaN</td>\n",
       "      <td>NaN</td>\n",
       "      <td>NaN</td>\n",
       "      <td>NaN</td>\n",
       "      <td>NaN</td>\n",
       "      <td>NaN</td>\n",
       "      <td>NaN</td>\n",
       "      <td>NaN</td>\n",
       "      <td>NaN</td>\n",
       "      <td>0</td>\n",
       "    </tr>\n",
       "    <tr>\n",
       "      <th>12121</th>\n",
       "      <td>1999-05</td>\n",
       "      <td>Mariana Islands</td>\n",
       "      <td>NaN</td>\n",
       "      <td>NaN</td>\n",
       "      <td>NaN</td>\n",
       "      <td>NaN</td>\n",
       "      <td>NaN</td>\n",
       "      <td>0</td>\n",
       "      <td>NaN</td>\n",
       "      <td>NaN</td>\n",
       "      <td>...</td>\n",
       "      <td>NaN</td>\n",
       "      <td>NaN</td>\n",
       "      <td>NaN</td>\n",
       "      <td>NaN</td>\n",
       "      <td>NaN</td>\n",
       "      <td>NaN</td>\n",
       "      <td>NaN</td>\n",
       "      <td>NaN</td>\n",
       "      <td>NaN</td>\n",
       "      <td>0</td>\n",
       "    </tr>\n",
       "    <tr>\n",
       "      <th>12176</th>\n",
       "      <td>1999-04</td>\n",
       "      <td>Mariana Islands</td>\n",
       "      <td>NaN</td>\n",
       "      <td>NaN</td>\n",
       "      <td>NaN</td>\n",
       "      <td>NaN</td>\n",
       "      <td>NaN</td>\n",
       "      <td>0</td>\n",
       "      <td>0.0</td>\n",
       "      <td>NaN</td>\n",
       "      <td>...</td>\n",
       "      <td>NaN</td>\n",
       "      <td>NaN</td>\n",
       "      <td>NaN</td>\n",
       "      <td>NaN</td>\n",
       "      <td>NaN</td>\n",
       "      <td>NaN</td>\n",
       "      <td>NaN</td>\n",
       "      <td>NaN</td>\n",
       "      <td>NaN</td>\n",
       "      <td>0</td>\n",
       "    </tr>\n",
       "    <tr>\n",
       "      <th>12231</th>\n",
       "      <td>1999-03</td>\n",
       "      <td>Mariana Islands</td>\n",
       "      <td>NaN</td>\n",
       "      <td>NaN</td>\n",
       "      <td>NaN</td>\n",
       "      <td>NaN</td>\n",
       "      <td>NaN</td>\n",
       "      <td>0</td>\n",
       "      <td>NaN</td>\n",
       "      <td>NaN</td>\n",
       "      <td>...</td>\n",
       "      <td>NaN</td>\n",
       "      <td>NaN</td>\n",
       "      <td>NaN</td>\n",
       "      <td>NaN</td>\n",
       "      <td>NaN</td>\n",
       "      <td>NaN</td>\n",
       "      <td>NaN</td>\n",
       "      <td>NaN</td>\n",
       "      <td>NaN</td>\n",
       "      <td>0</td>\n",
       "    </tr>\n",
       "    <tr>\n",
       "      <th>12286</th>\n",
       "      <td>1999-02</td>\n",
       "      <td>Mariana Islands</td>\n",
       "      <td>NaN</td>\n",
       "      <td>NaN</td>\n",
       "      <td>NaN</td>\n",
       "      <td>NaN</td>\n",
       "      <td>NaN</td>\n",
       "      <td>0</td>\n",
       "      <td>NaN</td>\n",
       "      <td>NaN</td>\n",
       "      <td>...</td>\n",
       "      <td>NaN</td>\n",
       "      <td>NaN</td>\n",
       "      <td>NaN</td>\n",
       "      <td>NaN</td>\n",
       "      <td>NaN</td>\n",
       "      <td>NaN</td>\n",
       "      <td>NaN</td>\n",
       "      <td>NaN</td>\n",
       "      <td>NaN</td>\n",
       "      <td>0</td>\n",
       "    </tr>\n",
       "    <tr>\n",
       "      <th>12341</th>\n",
       "      <td>1999-01</td>\n",
       "      <td>Mariana Islands</td>\n",
       "      <td>NaN</td>\n",
       "      <td>NaN</td>\n",
       "      <td>NaN</td>\n",
       "      <td>NaN</td>\n",
       "      <td>NaN</td>\n",
       "      <td>0</td>\n",
       "      <td>NaN</td>\n",
       "      <td>NaN</td>\n",
       "      <td>...</td>\n",
       "      <td>NaN</td>\n",
       "      <td>NaN</td>\n",
       "      <td>NaN</td>\n",
       "      <td>NaN</td>\n",
       "      <td>NaN</td>\n",
       "      <td>NaN</td>\n",
       "      <td>NaN</td>\n",
       "      <td>NaN</td>\n",
       "      <td>NaN</td>\n",
       "      <td>0</td>\n",
       "    </tr>\n",
       "    <tr>\n",
       "      <th>12396</th>\n",
       "      <td>1998-12</td>\n",
       "      <td>Mariana Islands</td>\n",
       "      <td>NaN</td>\n",
       "      <td>NaN</td>\n",
       "      <td>NaN</td>\n",
       "      <td>NaN</td>\n",
       "      <td>NaN</td>\n",
       "      <td>0</td>\n",
       "      <td>NaN</td>\n",
       "      <td>NaN</td>\n",
       "      <td>...</td>\n",
       "      <td>NaN</td>\n",
       "      <td>NaN</td>\n",
       "      <td>NaN</td>\n",
       "      <td>NaN</td>\n",
       "      <td>NaN</td>\n",
       "      <td>NaN</td>\n",
       "      <td>NaN</td>\n",
       "      <td>NaN</td>\n",
       "      <td>NaN</td>\n",
       "      <td>0</td>\n",
       "    </tr>\n",
       "  </tbody>\n",
       "</table>\n",
       "<p>20 rows × 27 columns</p>\n",
       "</div>"
      ],
      "text/plain": [
       "         month            state  permit  permit_recheck  handgun  long_gun  \\\n",
       "7914   2005-10   Virgin Islands     NaN             NaN      NaN       NaN   \n",
       "7969   2005-09   Virgin Islands     NaN             NaN      NaN       NaN   \n",
       "8024   2005-08   Virgin Islands     NaN             NaN      NaN       NaN   \n",
       "8079   2005-07   Virgin Islands     NaN             NaN      NaN       NaN   \n",
       "8134   2005-06   Virgin Islands     NaN             NaN      NaN       NaN   \n",
       "8189   2005-05   Virgin Islands     NaN             NaN      NaN       NaN   \n",
       "8244   2005-04   Virgin Islands     NaN             NaN      NaN       1.0   \n",
       "8299   2005-03   Virgin Islands     NaN             NaN      NaN       NaN   \n",
       "8354   2005-02   Virgin Islands     NaN             NaN      NaN       NaN   \n",
       "8409   2005-01   Virgin Islands     NaN             NaN      NaN       NaN   \n",
       "8491   2004-11  Mariana Islands     NaN             NaN      NaN       NaN   \n",
       "9674   2003-02   Virgin Islands     NaN             NaN      NaN       NaN   \n",
       "12011  1999-07  Mariana Islands     NaN             NaN      NaN       NaN   \n",
       "12066  1999-06  Mariana Islands     NaN             NaN      NaN       NaN   \n",
       "12121  1999-05  Mariana Islands     NaN             NaN      NaN       NaN   \n",
       "12176  1999-04  Mariana Islands     NaN             NaN      NaN       NaN   \n",
       "12231  1999-03  Mariana Islands     NaN             NaN      NaN       NaN   \n",
       "12286  1999-02  Mariana Islands     NaN             NaN      NaN       NaN   \n",
       "12341  1999-01  Mariana Islands     NaN             NaN      NaN       NaN   \n",
       "12396  1998-12  Mariana Islands     NaN             NaN      NaN       NaN   \n",
       "\n",
       "       other  multiple  admin  prepawn_handgun   ...    returned_other  \\\n",
       "7914     NaN         0    NaN              NaN   ...               NaN   \n",
       "7969     NaN         0    NaN              NaN   ...               NaN   \n",
       "8024     NaN         0    NaN              NaN   ...               NaN   \n",
       "8079     NaN         0    NaN              NaN   ...               NaN   \n",
       "8134     NaN         0    NaN              NaN   ...               NaN   \n",
       "8189     NaN         0    NaN              NaN   ...               NaN   \n",
       "8244     NaN         0    NaN              NaN   ...               NaN   \n",
       "8299     NaN         0    NaN              NaN   ...               NaN   \n",
       "8354     NaN         0    NaN              NaN   ...               NaN   \n",
       "8409     NaN         0    NaN              NaN   ...               NaN   \n",
       "8491     NaN         0    NaN              NaN   ...               NaN   \n",
       "9674     NaN         0    NaN              NaN   ...               NaN   \n",
       "12011    NaN         0    NaN              NaN   ...               NaN   \n",
       "12066    NaN         0    NaN              NaN   ...               NaN   \n",
       "12121    NaN         0    NaN              NaN   ...               NaN   \n",
       "12176    NaN         0    0.0              NaN   ...               NaN   \n",
       "12231    NaN         0    NaN              NaN   ...               NaN   \n",
       "12286    NaN         0    NaN              NaN   ...               NaN   \n",
       "12341    NaN         0    NaN              NaN   ...               NaN   \n",
       "12396    NaN         0    NaN              NaN   ...               NaN   \n",
       "\n",
       "       rentals_handgun  rentals_long_gun  private_sale_handgun  \\\n",
       "7914               NaN               NaN                   NaN   \n",
       "7969               NaN               NaN                   NaN   \n",
       "8024               NaN               NaN                   NaN   \n",
       "8079               NaN               NaN                   NaN   \n",
       "8134               NaN               NaN                   NaN   \n",
       "8189               NaN               NaN                   NaN   \n",
       "8244               NaN               NaN                   NaN   \n",
       "8299               NaN               NaN                   NaN   \n",
       "8354               NaN               NaN                   NaN   \n",
       "8409               NaN               NaN                   NaN   \n",
       "8491               NaN               NaN                   NaN   \n",
       "9674               NaN               NaN                   NaN   \n",
       "12011              NaN               NaN                   NaN   \n",
       "12066              NaN               NaN                   NaN   \n",
       "12121              NaN               NaN                   NaN   \n",
       "12176              NaN               NaN                   NaN   \n",
       "12231              NaN               NaN                   NaN   \n",
       "12286              NaN               NaN                   NaN   \n",
       "12341              NaN               NaN                   NaN   \n",
       "12396              NaN               NaN                   NaN   \n",
       "\n",
       "       private_sale_long_gun  private_sale_other  return_to_seller_handgun  \\\n",
       "7914                     NaN                 NaN                       NaN   \n",
       "7969                     NaN                 NaN                       NaN   \n",
       "8024                     NaN                 NaN                       NaN   \n",
       "8079                     NaN                 NaN                       NaN   \n",
       "8134                     NaN                 NaN                       NaN   \n",
       "8189                     NaN                 NaN                       NaN   \n",
       "8244                     NaN                 NaN                       NaN   \n",
       "8299                     NaN                 NaN                       NaN   \n",
       "8354                     NaN                 NaN                       NaN   \n",
       "8409                     NaN                 NaN                       NaN   \n",
       "8491                     NaN                 NaN                       NaN   \n",
       "9674                     NaN                 NaN                       NaN   \n",
       "12011                    NaN                 NaN                       NaN   \n",
       "12066                    NaN                 NaN                       NaN   \n",
       "12121                    NaN                 NaN                       NaN   \n",
       "12176                    NaN                 NaN                       NaN   \n",
       "12231                    NaN                 NaN                       NaN   \n",
       "12286                    NaN                 NaN                       NaN   \n",
       "12341                    NaN                 NaN                       NaN   \n",
       "12396                    NaN                 NaN                       NaN   \n",
       "\n",
       "       return_to_seller_long_gun  return_to_seller_other  totals  \n",
       "7914                         NaN                     NaN       0  \n",
       "7969                         NaN                     NaN       0  \n",
       "8024                         NaN                     NaN       0  \n",
       "8079                         NaN                     NaN       0  \n",
       "8134                         NaN                     NaN       0  \n",
       "8189                         NaN                     NaN       0  \n",
       "8244                         NaN                     NaN       1  \n",
       "8299                         NaN                     NaN       0  \n",
       "8354                         NaN                     NaN       0  \n",
       "8409                         NaN                     NaN       0  \n",
       "8491                         NaN                     NaN       0  \n",
       "9674                         NaN                     NaN       0  \n",
       "12011                        NaN                     NaN       0  \n",
       "12066                        NaN                     NaN       0  \n",
       "12121                        NaN                     NaN       0  \n",
       "12176                        NaN                     NaN       0  \n",
       "12231                        NaN                     NaN       0  \n",
       "12286                        NaN                     NaN       0  \n",
       "12341                        NaN                     NaN       0  \n",
       "12396                        NaN                     NaN       0  \n",
       "\n",
       "[20 rows x 27 columns]"
      ]
     },
     "execution_count": 13,
     "metadata": {},
     "output_type": "execute_result"
    }
   ],
   "source": [
    "# For 'long_gun' situation is similar\n",
    "df_fbi[df_fbi['handgun'].isnull()]"
   ]
  },
  {
   "cell_type": "markdown",
   "metadata": {},
   "source": [
    "It seems that we are missing some old data for incorporated territories of the U.S. we can safely replace it with zeros.  "
   ]
  },
  {
   "cell_type": "code",
   "execution_count": 14,
   "metadata": {},
   "outputs": [],
   "source": [
    "df_fbi.fillna(0, inplace=True)"
   ]
  },
  {
   "cell_type": "markdown",
   "metadata": {},
   "source": [
    "Let's calculate gun sales estimation as we discussed earlier:"
   ]
  },
  {
   "cell_type": "code",
   "execution_count": 15,
   "metadata": {},
   "outputs": [],
   "source": [
    "df_fbi['estimated_sales'] = (df_fbi['handgun'] + df_fbi['long_gun']) * 1.1 + (df_fbi['multiple'] * 2)"
   ]
  },
  {
   "cell_type": "markdown",
   "metadata": {},
   "source": [
    "Since all other types of checks are not relevant to our research let's drop them:"
   ]
  },
  {
   "cell_type": "code",
   "execution_count": 16,
   "metadata": {},
   "outputs": [],
   "source": [
    "df_fbi = df_fbi[['month', 'state', 'estimated_sales']]"
   ]
  },
  {
   "cell_type": "markdown",
   "metadata": {},
   "source": [
    "For convenience let’s convert month column to datetime:"
   ]
  },
  {
   "cell_type": "code",
   "execution_count": 17,
   "metadata": {},
   "outputs": [],
   "source": [
    "df_fbi.loc[:,'month'] = pd.to_datetime(df_fbi['month'])"
   ]
  },
  {
   "cell_type": "markdown",
   "metadata": {},
   "source": [
    "Now let's handle the census data, what we need is to select a few key indicators namely: **Population estimates (2016)**, **Bachelor's degree or higher, percent of persons age 25 years**, **Per capita income in past 12 months**, **Persons in poverty**."
   ]
  },
  {
   "cell_type": "markdown",
   "metadata": {},
   "source": [
    "Let's drop everything else:"
   ]
  },
  {
   "cell_type": "code",
   "execution_count": 18,
   "metadata": {},
   "outputs": [],
   "source": [
    "# Selecting only relevant facts\n",
    "df_census = df_census.loc[[0, 25, 35, 48, 49], :]\n",
    "# Droping 'Fact Note' column \n",
    "df_census.drop('Fact Note', axis=1, inplace=True)"
   ]
  },
  {
   "cell_type": "markdown",
   "metadata": {},
   "source": [
    "Check for missing data:"
   ]
  },
  {
   "cell_type": "code",
   "execution_count": 19,
   "metadata": {},
   "outputs": [
    {
     "data": {
      "text/plain": [
       "Fact              False\n",
       "Alabama           False\n",
       "Alaska            False\n",
       "Arizona           False\n",
       "Arkansas          False\n",
       "California        False\n",
       "Colorado          False\n",
       "Connecticut       False\n",
       "Delaware          False\n",
       "Florida           False\n",
       "Georgia           False\n",
       "Hawaii            False\n",
       "Idaho             False\n",
       "Illinois          False\n",
       "Indiana           False\n",
       "Iowa              False\n",
       "Kansas            False\n",
       "Kentucky          False\n",
       "Louisiana         False\n",
       "Maine             False\n",
       "Maryland          False\n",
       "Massachusetts     False\n",
       "Michigan          False\n",
       "Minnesota         False\n",
       "Mississippi       False\n",
       "Missouri          False\n",
       "Montana           False\n",
       "Nebraska          False\n",
       "Nevada            False\n",
       "New Hampshire     False\n",
       "New Jersey        False\n",
       "New Mexico        False\n",
       "New York          False\n",
       "North Carolina    False\n",
       "North Dakota      False\n",
       "Ohio              False\n",
       "Oklahoma          False\n",
       "Oregon            False\n",
       "Pennsylvania      False\n",
       "Rhode Island      False\n",
       "South Carolina    False\n",
       "South Dakota      False\n",
       "Tennessee         False\n",
       "Texas             False\n",
       "Utah              False\n",
       "Vermont           False\n",
       "Virginia          False\n",
       "Washington        False\n",
       "West Virginia     False\n",
       "Wisconsin         False\n",
       "Wyoming           False\n",
       "dtype: bool"
      ]
     },
     "execution_count": 19,
     "metadata": {},
     "output_type": "execute_result"
    }
   ],
   "source": [
    "df_census.isnull().any()"
   ]
  },
  {
   "cell_type": "markdown",
   "metadata": {},
   "source": [
    "Good news: all the data is present."
   ]
  },
  {
   "cell_type": "code",
   "execution_count": 20,
   "metadata": {},
   "outputs": [
    {
     "data": {
      "text/plain": [
       "Fact              object\n",
       "Alabama           object\n",
       "Alaska            object\n",
       "Arizona           object\n",
       "Arkansas          object\n",
       "California        object\n",
       "Colorado          object\n",
       "Connecticut       object\n",
       "Delaware          object\n",
       "Florida           object\n",
       "Georgia           object\n",
       "Hawaii            object\n",
       "Idaho             object\n",
       "Illinois          object\n",
       "Indiana           object\n",
       "Iowa              object\n",
       "Kansas            object\n",
       "Kentucky          object\n",
       "Louisiana         object\n",
       "Maine             object\n",
       "Maryland          object\n",
       "Massachusetts     object\n",
       "Michigan          object\n",
       "Minnesota         object\n",
       "Mississippi       object\n",
       "Missouri          object\n",
       "Montana           object\n",
       "Nebraska          object\n",
       "Nevada            object\n",
       "New Hampshire     object\n",
       "New Jersey        object\n",
       "New Mexico        object\n",
       "New York          object\n",
       "North Carolina    object\n",
       "North Dakota      object\n",
       "Ohio              object\n",
       "Oklahoma          object\n",
       "Oregon            object\n",
       "Pennsylvania      object\n",
       "Rhode Island      object\n",
       "South Carolina    object\n",
       "South Dakota      object\n",
       "Tennessee         object\n",
       "Texas             object\n",
       "Utah              object\n",
       "Vermont           object\n",
       "Virginia          object\n",
       "Washington        object\n",
       "West Virginia     object\n",
       "Wisconsin         object\n",
       "Wyoming           object\n",
       "dtype: object"
      ]
     },
     "execution_count": 20,
     "metadata": {},
     "output_type": "execute_result"
    }
   ],
   "source": [
    "df_census.dtypes"
   ]
  },
  {
   "cell_type": "markdown",
   "metadata": {},
   "source": [
    "Bad news: everything is a string, we will need to convert it for further use."
   ]
  },
  {
   "cell_type": "markdown",
   "metadata": {},
   "source": [
    "First we will deal with Population estimates:"
   ]
  },
  {
   "cell_type": "code",
   "execution_count": 21,
   "metadata": {},
   "outputs": [],
   "source": [
    "# Remove commas in strings\n",
    "df_census.iloc[0, 1:] = df_census.iloc[0, 1:].apply(lambda x: x.replace(',', ''))\n",
    "# Cast strings as integers\n",
    "df_census.iloc[0, 1:] = df_census.iloc[0, 1:].astype(int)"
   ]
  },
  {
   "cell_type": "markdown",
   "metadata": {},
   "source": [
    "Next we deal with median value of housing units and per capita income for that lets define helper function:"
   ]
  },
  {
   "cell_type": "code",
   "execution_count": 22,
   "metadata": {},
   "outputs": [],
   "source": [
    "def convert_dollar_amounts(target):\n",
    "    # Remove dollar marks\n",
    "    without_dollar = target.apply(lambda x: x.replace('$', ''))\n",
    "    # Remove commas in strings\n",
    "    without_comma = without_dollar.apply(lambda x: x.replace(',', ''))\n",
    "    # Cast strings as integers\n",
    "    as_integer = without_comma.astype(int)\n",
    "    return as_integer"
   ]
  },
  {
   "cell_type": "code",
   "execution_count": 23,
   "metadata": {},
   "outputs": [],
   "source": [
    "df_census.iloc[1, 1:] = convert_dollar_amounts(df_census.iloc[1, 1:])\n",
    "df_census.iloc[3, 1:] = convert_dollar_amounts(df_census.iloc[3, 1:])"
   ]
  },
  {
   "cell_type": "markdown",
   "metadata": {},
   "source": [
    "Now let's deal with percent of bachelor's degree and persons in poverty, again we will define helper function. Here however there is one issue the format is different for some states its '23.50%' for others '0.27'. We need to take it into account:"
   ]
  },
  {
   "cell_type": "code",
   "execution_count": 24,
   "metadata": {},
   "outputs": [],
   "source": [
    "def convert_percents(value):\n",
    "    # Remove % sign\n",
    "    new_value = float(value.replace('%', ''))\n",
    "    # Deal with different formats\n",
    "    if new_value < 1:\n",
    "        new_value *= 100\n",
    "    return new_value"
   ]
  },
  {
   "cell_type": "code",
   "execution_count": 25,
   "metadata": {},
   "outputs": [],
   "source": [
    "df_census.iloc[2, 1:] = df_census.iloc[2, 1:].apply(convert_percents)\n",
    "df_census.iloc[4, 1:] = df_census.iloc[4, 1:].apply(convert_percents)"
   ]
  },
  {
   "cell_type": "code",
   "execution_count": 26,
   "metadata": {},
   "outputs": [],
   "source": [
    "# Convert to pandas native datatypes\n",
    "df_census = df_census.apply(pd.to_numeric, errors='ignore')"
   ]
  },
  {
   "cell_type": "markdown",
   "metadata": {},
   "source": [
    "Now we need to transpose our dataframe so the states will become indexes and indicators will become columns:"
   ]
  },
  {
   "cell_type": "code",
   "execution_count": 27,
   "metadata": {},
   "outputs": [],
   "source": [
    "df_census = df_census.set_index('Fact').transpose()"
   ]
  },
  {
   "cell_type": "markdown",
   "metadata": {},
   "source": [
    "Let's shorten column names for convenience:"
   ]
  },
  {
   "cell_type": "code",
   "execution_count": 28,
   "metadata": {},
   "outputs": [],
   "source": [
    "df_census.rename(columns={'Population estimates, July 1, 2016,  (V2016)': 'population',\n",
    "                'Median value of owner-occupied housing units, 2011-2015': 'median house value',\n",
    "                \"Bachelor's degree or higher, percent of persons age 25 years+, 2011-2015\": \"percent of Bachelor's\",\n",
    "                'Per capita income in past 12 months (in 2015 dollars), 2011-2015': 'per capita income',\n",
    "                'Persons in poverty, percent':'poverty, percent'}, inplace=True)"
   ]
  },
  {
   "cell_type": "markdown",
   "metadata": {},
   "source": [
    "Let's check our cleaned data and continue to next section:"
   ]
  },
  {
   "cell_type": "code",
   "execution_count": 29,
   "metadata": {},
   "outputs": [
    {
     "data": {
      "text/html": [
       "<div>\n",
       "<style scoped>\n",
       "    .dataframe tbody tr th:only-of-type {\n",
       "        vertical-align: middle;\n",
       "    }\n",
       "\n",
       "    .dataframe tbody tr th {\n",
       "        vertical-align: top;\n",
       "    }\n",
       "\n",
       "    .dataframe thead th {\n",
       "        text-align: right;\n",
       "    }\n",
       "</style>\n",
       "<table border=\"1\" class=\"dataframe\">\n",
       "  <thead>\n",
       "    <tr style=\"text-align: right;\">\n",
       "      <th>Fact</th>\n",
       "      <th>population</th>\n",
       "      <th>median house value</th>\n",
       "      <th>percent of Bachelor's</th>\n",
       "      <th>per capita income</th>\n",
       "      <th>poverty, percent</th>\n",
       "    </tr>\n",
       "  </thead>\n",
       "  <tbody>\n",
       "    <tr>\n",
       "      <th>Alabama</th>\n",
       "      <td>4863300.0</td>\n",
       "      <td>125500.0</td>\n",
       "      <td>23.5</td>\n",
       "      <td>24091.0</td>\n",
       "      <td>17.1</td>\n",
       "    </tr>\n",
       "    <tr>\n",
       "      <th>Alaska</th>\n",
       "      <td>741894.0</td>\n",
       "      <td>250000.0</td>\n",
       "      <td>28.0</td>\n",
       "      <td>33413.0</td>\n",
       "      <td>9.9</td>\n",
       "    </tr>\n",
       "    <tr>\n",
       "      <th>Arizona</th>\n",
       "      <td>6931071.0</td>\n",
       "      <td>167500.0</td>\n",
       "      <td>27.5</td>\n",
       "      <td>25848.0</td>\n",
       "      <td>16.4</td>\n",
       "    </tr>\n",
       "    <tr>\n",
       "      <th>Arkansas</th>\n",
       "      <td>2988248.0</td>\n",
       "      <td>111400.0</td>\n",
       "      <td>21.1</td>\n",
       "      <td>22798.0</td>\n",
       "      <td>17.2</td>\n",
       "    </tr>\n",
       "    <tr>\n",
       "      <th>California</th>\n",
       "      <td>39250017.0</td>\n",
       "      <td>385500.0</td>\n",
       "      <td>31.4</td>\n",
       "      <td>30318.0</td>\n",
       "      <td>14.3</td>\n",
       "    </tr>\n",
       "  </tbody>\n",
       "</table>\n",
       "</div>"
      ],
      "text/plain": [
       "Fact        population  median house value  percent of Bachelor's  \\\n",
       "Alabama      4863300.0            125500.0                   23.5   \n",
       "Alaska        741894.0            250000.0                   28.0   \n",
       "Arizona      6931071.0            167500.0                   27.5   \n",
       "Arkansas     2988248.0            111400.0                   21.1   \n",
       "California  39250017.0            385500.0                   31.4   \n",
       "\n",
       "Fact        per capita income  poverty, percent  \n",
       "Alabama               24091.0              17.1  \n",
       "Alaska                33413.0               9.9  \n",
       "Arizona               25848.0              16.4  \n",
       "Arkansas              22798.0              17.2  \n",
       "California            30318.0              14.3  "
      ]
     },
     "execution_count": 29,
     "metadata": {},
     "output_type": "execute_result"
    }
   ],
   "source": [
    "df_census.head()"
   ]
  },
  {
   "cell_type": "code",
   "execution_count": 30,
   "metadata": {},
   "outputs": [
    {
     "data": {
      "text/plain": [
       "Index(['population', 'median house value', 'percent of Bachelor's',\n",
       "       'per capita income', 'poverty, percent'],\n",
       "      dtype='object', name='Fact')"
      ]
     },
     "execution_count": 30,
     "metadata": {},
     "output_type": "execute_result"
    }
   ],
   "source": [
    "df_census.columns"
   ]
  },
  {
   "cell_type": "markdown",
   "metadata": {},
   "source": [
    "<a id='eda'></a>\n",
    "## Exploratory Data Analysis\n",
    "\n",
    "### General trend in U.S. arms sales "
   ]
  },
  {
   "cell_type": "markdown",
   "metadata": {},
   "source": [
    "Let's sum up sales by month:"
   ]
  },
  {
   "cell_type": "code",
   "execution_count": 31,
   "metadata": {},
   "outputs": [],
   "source": [
    "monthly_sales_data = df_fbi.groupby('month').sum()"
   ]
  },
  {
   "cell_type": "code",
   "execution_count": 32,
   "metadata": {},
   "outputs": [
    {
     "data": {
      "text/plain": [
       "[<matplotlib.lines.Line2D at 0x1445d7bbbe0>]"
      ]
     },
     "execution_count": 32,
     "metadata": {},
     "output_type": "execute_result"
    },
    {
     "data": {
      "image/png": "[encoded data removed]",
      "text/plain": [
       "<Figure size 1008x504 with 1 Axes>"
      ]
     },
     "metadata": {
      "needs_background": "light"
     },
     "output_type": "display_data"
    }
   ],
   "source": [
    "fig, ax = plt.subplots(figsize=(14,7))\n",
    "ax.set(xlabel='Year', ylabel='Monthly Sales',\n",
    "       title='Estimated arms sales in the U.S.')\n",
    "ax.plot(monthly_sales_data)"
   ]
  },
  {
   "cell_type": "markdown",
   "metadata": {},
   "source": [
    "Well this is a lot of seasonality we need to adjust it, let's use a rolling mean with a 12 months window:"
   ]
  },
  {
   "cell_type": "code",
   "execution_count": 33,
   "metadata": {},
   "outputs": [],
   "source": [
    "rolling_monthly_sales = monthly_sales_data.rolling(12).mean()"
   ]
  },
  {
   "cell_type": "code",
   "execution_count": 34,
   "metadata": {},
   "outputs": [
    {
     "data": {
      "text/plain": [
       "[<matplotlib.lines.Line2D at 0x1445ce7f4a8>]"
      ]
     },
     "execution_count": 34,
     "metadata": {},
     "output_type": "execute_result"
    },
    {
     "data": {
      "image/png": "[encoded data removed]",
      "text/plain": [
       "<Figure size 1008x504 with 1 Axes>"
      ]
     },
     "metadata": {
      "needs_background": "light"
     },
     "output_type": "display_data"
    }
   ],
   "source": [
    "fig, ax = plt.subplots(figsize=(14,7))\n",
    "ax.set(xlabel='Year', ylabel='Monthly Sales',\n",
    "       title='Estimated arms sales in the U.S.')\n",
    "ax.plot(rolling_monthly_sales)"
   ]
  },
  {
   "cell_type": "markdown",
   "metadata": {},
   "source": [
    "As we can see monthly sales of weapons in the U.S. tend to rise and almost doubled within past 20 years. We can clearly distinguish three peaks around years 2009, 2013 and 2017."
   ]
  },
  {
   "cell_type": "markdown",
   "metadata": {},
   "source": [
    "### Which states have the highest arms sales?"
   ]
  },
  {
   "cell_type": "code",
   "execution_count": 35,
   "metadata": {},
   "outputs": [
    {
     "data": {
      "text/html": [
       "<div>\n",
       "<style scoped>\n",
       "    .dataframe tbody tr th:only-of-type {\n",
       "        vertical-align: middle;\n",
       "    }\n",
       "\n",
       "    .dataframe tbody tr th {\n",
       "        vertical-align: top;\n",
       "    }\n",
       "\n",
       "    .dataframe thead th {\n",
       "        text-align: right;\n",
       "    }\n",
       "</style>\n",
       "<table border=\"1\" class=\"dataframe\">\n",
       "  <thead>\n",
       "    <tr style=\"text-align: right;\">\n",
       "      <th></th>\n",
       "      <th>estimated_sales</th>\n",
       "    </tr>\n",
       "    <tr>\n",
       "      <th>state</th>\n",
       "      <th></th>\n",
       "    </tr>\n",
       "  </thead>\n",
       "  <tbody>\n",
       "    <tr>\n",
       "      <th>Texas</th>\n",
       "      <td>16295674.8</td>\n",
       "    </tr>\n",
       "    <tr>\n",
       "      <th>California</th>\n",
       "      <td>13448143.0</td>\n",
       "    </tr>\n",
       "    <tr>\n",
       "      <th>Pennsylvania</th>\n",
       "      <td>12823405.7</td>\n",
       "    </tr>\n",
       "    <tr>\n",
       "      <th>Florida</th>\n",
       "      <td>11198350.2</td>\n",
       "    </tr>\n",
       "    <tr>\n",
       "      <th>Ohio</th>\n",
       "      <td>8539790.2</td>\n",
       "    </tr>\n",
       "  </tbody>\n",
       "</table>\n",
       "</div>"
      ],
      "text/plain": [
       "              estimated_sales\n",
       "state                        \n",
       "Texas              16295674.8\n",
       "California         13448143.0\n",
       "Pennsylvania       12823405.7\n",
       "Florida            11198350.2\n",
       "Ohio                8539790.2"
      ]
     },
     "execution_count": 35,
     "metadata": {},
     "output_type": "execute_result"
    }
   ],
   "source": [
    "total_arms_sold_per_state = df_fbi.groupby('state').sum().sort_values(by='estimated_sales', ascending=False)\n",
    "total_arms_sold_per_state[0:5]"
   ]
  },
  {
   "cell_type": "markdown",
   "metadata": {},
   "source": [
    "Above we can see top 5 states ranked by estimated arms sales for the discussed period."
   ]
  },
  {
   "cell_type": "code",
   "execution_count": 36,
   "metadata": {},
   "outputs": [
    {
     "data": {
      "text/plain": [
       "<BarContainer object of 55 artists>"
      ]
     },
     "execution_count": 36,
     "metadata": {},
     "output_type": "execute_result"
    },
    {
     "data": {
      "image/png": "[encoded data removed]",
      "text/plain": [
       "<Figure size 1008x504 with 1 Axes>"
      ]
     },
     "metadata": {
      "needs_background": "light"
     },
     "output_type": "display_data"
    }
   ],
   "source": [
    "fig, ax = plt.subplots(figsize=(14,7))\n",
    "ax.set(xlabel='States', ylabel='Total sales',\n",
    "       title='Total arms sales per state')\n",
    "xlabels = total_arms_sold_per_state.index\n",
    "ax.set_xticklabels(xlabels, rotation=90)\n",
    "ax.margins(0.01, 0.01)\n",
    "ax.ticklabel_format(axis='y', style='plain')\n",
    "ax.axhline(total_arms_sold_per_state['estimated_sales'].mean(), color='red', linewidth=2, label='Mean sales')\n",
    "plt.legend()\n",
    "ax.bar(total_arms_sold_per_state.index, total_arms_sold_per_state['estimated_sales'])"
   ]
  },
  {
   "cell_type": "markdown",
   "metadata": {},
   "source": [
    "The difference between sales in top-5 states: Texas, California, Pennsylvania, Florida, Ohio and the mean sales is significant."
   ]
  },
  {
   "cell_type": "code",
   "execution_count": 37,
   "metadata": {},
   "outputs": [
    {
     "data": {
      "image/png": "[encoded data removed]",
      "text/plain": [
       "<Figure size 1008x504 with 1 Axes>"
      ]
     },
     "metadata": {},
     "output_type": "display_data"
    }
   ],
   "source": [
    "labels = 'Top-5 states', 'Other'\n",
    "top_5_proportion = total_arms_sold_per_state[0:5].sum() / total_arms_sold_per_state.sum()\n",
    "sizes = [top_5_proportion, 1 - top_5_proportion]\n",
    "explode = (0.1, 0)\n",
    "\n",
    "fig, ax = plt.subplots(figsize=(14,7))\n",
    "ax.set(title='Top-5 states share of total arms sales in the U.S.')\n",
    "ax.pie(sizes, explode=explode, labels=labels, autopct='%1.1f%%',\n",
    "        shadow=True, startangle=90)\n",
    "ax.axis('equal')\n",
    "plt.show()"
   ]
  },
  {
   "cell_type": "markdown",
   "metadata": {},
   "source": [
    "From this graph we can see that top-5 states account for 31.9% of total arms sales in the U.S."
   ]
  },
  {
   "cell_type": "code",
   "execution_count": 38,
   "metadata": {},
   "outputs": [
    {
     "data": {
      "image/png": "[encoded data removed]",
      "text/plain": [
       "<Figure size 1008x504 with 1 Axes>"
      ]
     },
     "metadata": {
      "needs_background": "light"
     },
     "output_type": "display_data"
    }
   ],
   "source": [
    "fig, ax = plt.subplots(figsize=(14,7))\n",
    "ax.set(title='Total arms sales in the U.S.', xlabel='Total Sales', ylabel='Number of States')\n",
    "ax.ticklabel_format(axis='x', style='plain')\n",
    "ax.margins(0.01, 0.01)\n",
    "ax.hist(total_arms_sold_per_state['estimated_sales'], 5)\n",
    "plt.show()"
   ]
  },
  {
   "cell_type": "markdown",
   "metadata": {},
   "source": [
    "The distribution of total sales by state is highly skewed to the right, due to the fact that top-5 states account for 31.9% of total sales."
   ]
  },
  {
   "cell_type": "markdown",
   "metadata": {},
   "source": [
    "### What factors may contribute for high per capita arms sales?"
   ]
  },
  {
   "cell_type": "markdown",
   "metadata": {},
   "source": [
    "First things first, let's figure out per capita arms sales using FBI dataset and census dataset:"
   ]
  },
  {
   "cell_type": "code",
   "execution_count": 39,
   "metadata": {},
   "outputs": [],
   "source": [
    "# Drop U.S. territories and D.C. because we lack census data:\n",
    "not_states = ['District of Columbia', 'Puerto Rico', 'Guam', 'Virgin Islands', 'Mariana Islands']\n",
    "total_arms_sold_per_state.drop(not_states, axis=0, inplace=True)"
   ]
  },
  {
   "cell_type": "markdown",
   "metadata": {},
   "source": [
    "Let's merge total arms sales and census dataframes together:"
   ]
  },
  {
   "cell_type": "code",
   "execution_count": 40,
   "metadata": {},
   "outputs": [],
   "source": [
    "df_sales_and_census = total_arms_sold_per_state.merge(df_census, left_index=True, right_index=True, how='inner')"
   ]
  },
  {
   "cell_type": "markdown",
   "metadata": {},
   "source": [
    "Let's calculate per capita sales, for that we divide number of arms sold by the total population and check result:"
   ]
  },
  {
   "cell_type": "code",
   "execution_count": 41,
   "metadata": {},
   "outputs": [],
   "source": [
    "df_sales_and_census['sales per capita'] = df_sales_and_census['estimated_sales'] / df_sales_and_census['population']"
   ]
  },
  {
   "cell_type": "code",
   "execution_count": 42,
   "metadata": {},
   "outputs": [
    {
     "data": {
      "text/html": [
       "<div>\n",
       "<style scoped>\n",
       "    .dataframe tbody tr th:only-of-type {\n",
       "        vertical-align: middle;\n",
       "    }\n",
       "\n",
       "    .dataframe tbody tr th {\n",
       "        vertical-align: top;\n",
       "    }\n",
       "\n",
       "    .dataframe thead th {\n",
       "        text-align: right;\n",
       "    }\n",
       "</style>\n",
       "<table border=\"1\" class=\"dataframe\">\n",
       "  <thead>\n",
       "    <tr style=\"text-align: right;\">\n",
       "      <th></th>\n",
       "      <th>estimated_sales</th>\n",
       "      <th>population</th>\n",
       "      <th>median house value</th>\n",
       "      <th>percent of Bachelor's</th>\n",
       "      <th>per capita income</th>\n",
       "      <th>poverty, percent</th>\n",
       "      <th>sales per capita</th>\n",
       "    </tr>\n",
       "  </thead>\n",
       "  <tbody>\n",
       "    <tr>\n",
       "      <th>Texas</th>\n",
       "      <td>16295674.8</td>\n",
       "      <td>27862596.0</td>\n",
       "      <td>136000.0</td>\n",
       "      <td>27.6</td>\n",
       "      <td>26999.0</td>\n",
       "      <td>15.6</td>\n",
       "      <td>0.584858</td>\n",
       "    </tr>\n",
       "    <tr>\n",
       "      <th>California</th>\n",
       "      <td>13448143.0</td>\n",
       "      <td>39250017.0</td>\n",
       "      <td>385500.0</td>\n",
       "      <td>31.4</td>\n",
       "      <td>30318.0</td>\n",
       "      <td>14.3</td>\n",
       "      <td>0.342628</td>\n",
       "    </tr>\n",
       "    <tr>\n",
       "      <th>Pennsylvania</th>\n",
       "      <td>12823405.7</td>\n",
       "      <td>12784227.0</td>\n",
       "      <td>166000.0</td>\n",
       "      <td>28.6</td>\n",
       "      <td>29291.0</td>\n",
       "      <td>12.9</td>\n",
       "      <td>1.003065</td>\n",
       "    </tr>\n",
       "    <tr>\n",
       "      <th>Florida</th>\n",
       "      <td>11198350.2</td>\n",
       "      <td>20612439.0</td>\n",
       "      <td>159000.0</td>\n",
       "      <td>27.3</td>\n",
       "      <td>26829.0</td>\n",
       "      <td>14.7</td>\n",
       "      <td>0.543281</td>\n",
       "    </tr>\n",
       "    <tr>\n",
       "      <th>Ohio</th>\n",
       "      <td>8539790.2</td>\n",
       "      <td>11614373.0</td>\n",
       "      <td>129900.0</td>\n",
       "      <td>26.1</td>\n",
       "      <td>26953.0</td>\n",
       "      <td>14.6</td>\n",
       "      <td>0.735278</td>\n",
       "    </tr>\n",
       "  </tbody>\n",
       "</table>\n",
       "</div>"
      ],
      "text/plain": [
       "              estimated_sales  population  median house value  \\\n",
       "Texas              16295674.8  27862596.0            136000.0   \n",
       "California         13448143.0  39250017.0            385500.0   \n",
       "Pennsylvania       12823405.7  12784227.0            166000.0   \n",
       "Florida            11198350.2  20612439.0            159000.0   \n",
       "Ohio                8539790.2  11614373.0            129900.0   \n",
       "\n",
       "              percent of Bachelor's  per capita income  poverty, percent  \\\n",
       "Texas                          27.6            26999.0              15.6   \n",
       "California                     31.4            30318.0              14.3   \n",
       "Pennsylvania                   28.6            29291.0              12.9   \n",
       "Florida                        27.3            26829.0              14.7   \n",
       "Ohio                           26.1            26953.0              14.6   \n",
       "\n",
       "              sales per capita  \n",
       "Texas                 0.584858  \n",
       "California            0.342628  \n",
       "Pennsylvania          1.003065  \n",
       "Florida               0.543281  \n",
       "Ohio                  0.735278  "
      ]
     },
     "execution_count": 42,
     "metadata": {},
     "output_type": "execute_result"
    }
   ],
   "source": [
    "df_sales_and_census.head()"
   ]
  },
  {
   "cell_type": "markdown",
   "metadata": {},
   "source": [
    "Let's figure out top 10 states with highest per capita sales:"
   ]
  },
  {
   "cell_type": "code",
   "execution_count": 43,
   "metadata": {},
   "outputs": [
    {
     "data": {
      "text/plain": [
       "West Virginia    1.580925\n",
       "Montana          1.578289\n",
       "Alaska           1.570658\n",
       "South Dakota     1.426144\n",
       "Wyoming          1.408950\n",
       "Name: sales per capita, dtype: float64"
      ]
     },
     "execution_count": 43,
     "metadata": {},
     "output_type": "execute_result"
    }
   ],
   "source": [
    "df_sales_and_census.sort_values('sales per capita', ascending=False)['sales per capita'].head(5)"
   ]
  },
  {
   "cell_type": "markdown",
   "metadata": {},
   "source": [
    "Interestingly enough, top-5 states per capita are not the same as top-5 states with the highest total sales. Let's illustrate this with a bar chart:"
   ]
  },
  {
   "cell_type": "code",
   "execution_count": 44,
   "metadata": {},
   "outputs": [
    {
     "data": {
      "text/plain": [
       "<BarContainer object of 50 artists>"
      ]
     },
     "execution_count": 44,
     "metadata": {},
     "output_type": "execute_result"
    },
    {
     "data": {
      "image/png": "[encoded data removed]",
      "text/plain": [
       "<Figure size 1008x504 with 1 Axes>"
      ]
     },
     "metadata": {
      "needs_background": "light"
     },
     "output_type": "display_data"
    }
   ],
   "source": [
    "fig, ax = plt.subplots(figsize=(14,7))\n",
    "ax.set(xlabel='States', ylabel='Per capita sales',\n",
    "       title='Per capita sales per state')\n",
    "xlabels = df_sales_and_census.index\n",
    "ax.set_xticklabels(xlabels, rotation=90)\n",
    "ax.margins(0.01, 0.01)\n",
    "ax.axhline(df_sales_and_census['sales per capita'].mean(), color='red', linewidth=2, label='Mean per capita sales')\n",
    "plt.legend()\n",
    "ax.bar(df_sales_and_census.index, df_sales_and_census['sales per capita'])"
   ]
  },
  {
   "cell_type": "markdown",
   "metadata": {},
   "source": [
    "With exception of Pennsylvania per capita arms sales in top-5 states with highest total arms sales are actually less than the mean per capita arms sales."
   ]
  },
  {
   "cell_type": "markdown",
   "metadata": {},
   "source": [
    "Next we are going to plot a bunch of scatterplots, for this let's define a helper function:"
   ]
  },
  {
   "cell_type": "code",
   "execution_count": 45,
   "metadata": {},
   "outputs": [],
   "source": [
    "def plot_scatter(x, y, title):\n",
    "    fig, ax = plt.subplots(figsize=(14,7))\n",
    "    ax.set(xlabel=x, ylabel=y,\n",
    "           title=title)\n",
    "    ax.scatter(df_sales_and_census[x], df_sales_and_census[y])"
   ]
  },
  {
   "cell_type": "markdown",
   "metadata": {},
   "source": [
    "### Sales per capita and median house value"
   ]
  },
  {
   "cell_type": "code",
   "execution_count": 46,
   "metadata": {},
   "outputs": [
    {
     "data": {
      "image/png": "[encoded data removed]",
      "text/plain": [
       "<Figure size 1008x504 with 1 Axes>"
      ]
     },
     "metadata": {
      "needs_background": "light"
     },
     "output_type": "display_data"
    }
   ],
   "source": [
    "plot_scatter('sales per capita', 'median house value', 'Sales and median house value')"
   ]
  },
  {
   "cell_type": "markdown",
   "metadata": {},
   "source": [
    "From graph above we can see some degree of negative correlation between median house value and per capita arms sales."
   ]
  },
  {
   "cell_type": "markdown",
   "metadata": {},
   "source": [
    "### Sales per capita and percent of Bachelor's degrees"
   ]
  },
  {
   "cell_type": "code",
   "execution_count": 47,
   "metadata": {},
   "outputs": [
    {
     "data": {
      "image/png": "[encoded data removed]",
      "text/plain": [
       "<Figure size 1008x504 with 1 Axes>"
      ]
     },
     "metadata": {
      "needs_background": "light"
     },
     "output_type": "display_data"
    }
   ],
   "source": [
    "plot_scatter('sales per capita', \"percent of Bachelor's\", \"Sales and percent of Bachelor's degree\")"
   ]
  },
  {
   "cell_type": "markdown",
   "metadata": {},
   "source": [
    "We can see somewhat negative correlation between percent of adults with Bachelor's degree and arms sales per capita."
   ]
  },
  {
   "cell_type": "markdown",
   "metadata": {},
   "source": [
    "### Sales per capita and per capita income"
   ]
  },
  {
   "cell_type": "code",
   "execution_count": 48,
   "metadata": {},
   "outputs": [
    {
     "data": {
      "image/png": "[encoded data removed]",
      "text/plain": [
       "<Figure size 1008x504 with 1 Axes>"
      ]
     },
     "metadata": {
      "needs_background": "light"
     },
     "output_type": "display_data"
    }
   ],
   "source": [
    "plot_scatter('sales per capita', 'per capita income', 'Sales and per capita income')"
   ]
  },
  {
   "cell_type": "markdown",
   "metadata": {},
   "source": [
    "Again we can observe weak negative correlation between per capita income and per capita sales."
   ]
  },
  {
   "cell_type": "markdown",
   "metadata": {},
   "source": [
    "### Sales per capita and poverty"
   ]
  },
  {
   "cell_type": "code",
   "execution_count": 49,
   "metadata": {},
   "outputs": [
    {
     "data": {
      "image/png": "[encoded data removed]",
      "text/plain": [
       "<Figure size 1008x504 with 1 Axes>"
      ]
     },
     "metadata": {
      "needs_background": "light"
     },
     "output_type": "display_data"
    }
   ],
   "source": [
    "plot_scatter('sales per capita', 'poverty, percent', 'Sales and poverty')"
   ]
  },
  {
   "cell_type": "markdown",
   "metadata": {},
   "source": [
    "Here we can see some weak positive correlation between poverty and per capita arms sales."
   ]
  },
  {
   "cell_type": "markdown",
   "metadata": {},
   "source": [
    "Let's summarize our findings by printing correlation coefficients:"
   ]
  },
  {
   "cell_type": "code",
   "execution_count": 50,
   "metadata": {},
   "outputs": [
    {
     "data": {
      "text/plain": [
       "estimated_sales         -0.023128\n",
       "population              -0.380262\n",
       "median house value      -0.462468\n",
       "percent of Bachelor's   -0.454702\n",
       "per capita income       -0.355900\n",
       "poverty, percent         0.245889\n",
       "sales per capita         1.000000\n",
       "Name: sales per capita, dtype: float64"
      ]
     },
     "execution_count": 50,
     "metadata": {},
     "output_type": "execute_result"
    }
   ],
   "source": [
    "df_sales_and_census.corr()['sales per capita']"
   ]
  },
  {
   "cell_type": "markdown",
   "metadata": {},
   "source": [
    "<a id='conclusions'></a>\n",
    "## Conclusions"
   ]
  },
  {
   "cell_type": "markdown",
   "metadata": {},
   "source": [
    "As we can see from our analysis the monthly arms sales in the U.S. doubled in past 20 years, we can see that general trend has three peaks (2009, 2013, 2017) probably connected to political landscape (U.S. presidential elections). Top 5 states by total arms sales (Texas, California, Pennsylvania, Florida, Ohio) account for 31.9% of total arms sales in the U.S. However per capita leaders are West Virginia, Montana, Alaska, South Dakota and Wyoming."
   ]
  },
  {
   "cell_type": "markdown",
   "metadata": {},
   "source": [
    "In terms of factors which can influence high per capita sales, we can point out that such social-economic indicators as median house value, per capita income, and percent of Bachelor's degrees have negative correlation with per capita sales i.e. states with higher income, housing value and percent of Bachelor's degree tend to have less per capita gun sales. Of course correlation does not imply causation, further research in this matter required. "
   ]
  },
  {
   "cell_type": "markdown",
   "metadata": {},
   "source": [
    "### Limitations:"
   ]
  },
  {
   "cell_type": "markdown",
   "metadata": {},
   "source": [
    "In conclusion I would like to point out that this report has two major limitations:\n",
    "<ol>\n",
    "    <li> We used not the actual data on gun sales but estimation based on technique provided by NYT researches.</li>\n",
    "    <li> Comparison of arms sales in different states may not be precise due to difference in gun laws between states.</li>\n",
    "</ol>"
   ]
  }
 ],
 "metadata": {
  "kernelspec": {
   "display_name": "Python 3",
   "language": "python",
   "name": "python3"
  },
  "language_info": {
   "codemirror_mode": {
    "name": "ipython",
    "version": 3
   },
   "file_extension": ".py",
   "mimetype": "text/x-python",
   "name": "python",
   "nbconvert_exporter": "python",
   "pygments_lexer": "ipython3",
   "version": "3.7.0"
  }
 },
 "nbformat": 4,
 "nbformat_minor": 2
}
